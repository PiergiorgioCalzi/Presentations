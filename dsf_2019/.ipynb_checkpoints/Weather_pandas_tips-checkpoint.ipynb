{
 "cells": [
  {
   "cell_type": "markdown",
   "metadata": {},
   "source": [
    "# Housekeeping"
   ]
  },
  {
   "cell_type": "code",
   "execution_count": 1,
   "metadata": {},
   "outputs": [],
   "source": [
    "import pandas as pd\n",
    "import sys\n",
    "import os\n",
    "import matplotlib\n",
    "%matplotlib inline"
   ]
  },
  {
   "cell_type": "markdown",
   "metadata": {},
   "source": [
    "# Acknowledgements"
   ]
  },
  {
   "cell_type": "markdown",
   "metadata": {},
   "source": [
    "[Historical Hourly Weather Data 2012-2017](https://www.kaggle.com/selfishgene/historical-hourly-weather-data)  \n",
    "_The dataset was aquired using [Weather API](https://openweathermap.org/api) on the [OpenWeatherMap website](https://openweathermap.org/), and is available under the [ODbL License](https://opendatacommons.org/licenses/odbl/)._"
   ]
  },
  {
   "cell_type": "markdown",
   "metadata": {},
   "source": [
    "# Before Starting"
   ]
  },
  {
   "cell_type": "markdown",
   "metadata": {},
   "source": [
    "The techniques used throughout this presentation are not recommended in order to answer meaningful questions on weather data. Signal processing techniques and timeseries analysis would be perhaps more appropriate.  \n",
    "The choice of dataset was due to the flexibility of techiques that can be displayed on these variables.  "
   ]
  },
  {
   "cell_type": "markdown",
   "metadata": {},
   "source": [
    "# Importing the data"
   ]
  },
  {
   "cell_type": "markdown",
   "metadata": {},
   "source": [
    "Please, go to [this url](https://www.kaggle.com/selfishgene/historical-hourly-weather-data/downloads/historical-hourly-weather-data.zip/2), log in / sign into Kaggle, download the .zip file with all the data (in .csv format) and extract them in the same folder as this notebook."
   ]
  },
  {
   "cell_type": "code",
   "execution_count": 2,
   "metadata": {},
   "outputs": [],
   "source": [
    "files = [i for i in os.walk(\".\")][0][2]"
   ]
  },
  {
   "cell_type": "code",
   "execution_count": 3,
   "metadata": {},
   "outputs": [
    {
     "data": {
      "text/plain": [
       "['weather_description.csv',\n",
       " 'humidity.csv',\n",
       " 'wind_direction.csv',\n",
       " 'Weather_pandas_tips.ipynb',\n",
       " 'temperature.csv',\n",
       " 'pressure.csv',\n",
       " 'city_attributes.csv',\n",
       " 'wind_speed.csv']"
      ]
     },
     "execution_count": 3,
     "metadata": {},
     "output_type": "execute_result"
    }
   ],
   "source": [
    "files"
   ]
  },
  {
   "cell_type": "code",
   "execution_count": 4,
   "metadata": {},
   "outputs": [],
   "source": [
    "dfs = {file:pd.read_csv(file) for file in files if file[-4:] == \".csv\"}"
   ]
  },
  {
   "cell_type": "markdown",
   "metadata": {},
   "source": [
    "# Inspecting weather description data"
   ]
  },
  {
   "cell_type": "code",
   "execution_count": 5,
   "metadata": {},
   "outputs": [
    {
     "data": {
      "text/html": [
       "<div>\n",
       "<style scoped>\n",
       "    .dataframe tbody tr th:only-of-type {\n",
       "        vertical-align: middle;\n",
       "    }\n",
       "\n",
       "    .dataframe tbody tr th {\n",
       "        vertical-align: top;\n",
       "    }\n",
       "\n",
       "    .dataframe thead th {\n",
       "        text-align: right;\n",
       "    }\n",
       "</style>\n",
       "<table border=\"1\" class=\"dataframe\">\n",
       "  <thead>\n",
       "    <tr style=\"text-align: right;\">\n",
       "      <th></th>\n",
       "      <th>datetime</th>\n",
       "      <th>Vancouver</th>\n",
       "      <th>Portland</th>\n",
       "      <th>San Francisco</th>\n",
       "      <th>Seattle</th>\n",
       "      <th>Los Angeles</th>\n",
       "      <th>San Diego</th>\n",
       "      <th>Las Vegas</th>\n",
       "      <th>Phoenix</th>\n",
       "      <th>Albuquerque</th>\n",
       "      <th>...</th>\n",
       "      <th>Philadelphia</th>\n",
       "      <th>New York</th>\n",
       "      <th>Montreal</th>\n",
       "      <th>Boston</th>\n",
       "      <th>Beersheba</th>\n",
       "      <th>Tel Aviv District</th>\n",
       "      <th>Eilat</th>\n",
       "      <th>Haifa</th>\n",
       "      <th>Nahariyya</th>\n",
       "      <th>Jerusalem</th>\n",
       "    </tr>\n",
       "  </thead>\n",
       "  <tbody>\n",
       "    <tr>\n",
       "      <th>0</th>\n",
       "      <td>2012-10-01 12:00:00</td>\n",
       "      <td>NaN</td>\n",
       "      <td>NaN</td>\n",
       "      <td>NaN</td>\n",
       "      <td>NaN</td>\n",
       "      <td>NaN</td>\n",
       "      <td>NaN</td>\n",
       "      <td>NaN</td>\n",
       "      <td>NaN</td>\n",
       "      <td>NaN</td>\n",
       "      <td>...</td>\n",
       "      <td>NaN</td>\n",
       "      <td>NaN</td>\n",
       "      <td>NaN</td>\n",
       "      <td>NaN</td>\n",
       "      <td>NaN</td>\n",
       "      <td>NaN</td>\n",
       "      <td>haze</td>\n",
       "      <td>NaN</td>\n",
       "      <td>NaN</td>\n",
       "      <td>NaN</td>\n",
       "    </tr>\n",
       "    <tr>\n",
       "      <th>1</th>\n",
       "      <td>2012-10-01 13:00:00</td>\n",
       "      <td>mist</td>\n",
       "      <td>scattered clouds</td>\n",
       "      <td>light rain</td>\n",
       "      <td>sky is clear</td>\n",
       "      <td>mist</td>\n",
       "      <td>sky is clear</td>\n",
       "      <td>sky is clear</td>\n",
       "      <td>sky is clear</td>\n",
       "      <td>sky is clear</td>\n",
       "      <td>...</td>\n",
       "      <td>broken clouds</td>\n",
       "      <td>few clouds</td>\n",
       "      <td>overcast clouds</td>\n",
       "      <td>sky is clear</td>\n",
       "      <td>sky is clear</td>\n",
       "      <td>sky is clear</td>\n",
       "      <td>haze</td>\n",
       "      <td>sky is clear</td>\n",
       "      <td>sky is clear</td>\n",
       "      <td>sky is clear</td>\n",
       "    </tr>\n",
       "    <tr>\n",
       "      <th>2</th>\n",
       "      <td>2012-10-01 14:00:00</td>\n",
       "      <td>broken clouds</td>\n",
       "      <td>scattered clouds</td>\n",
       "      <td>sky is clear</td>\n",
       "      <td>sky is clear</td>\n",
       "      <td>sky is clear</td>\n",
       "      <td>sky is clear</td>\n",
       "      <td>sky is clear</td>\n",
       "      <td>sky is clear</td>\n",
       "      <td>sky is clear</td>\n",
       "      <td>...</td>\n",
       "      <td>broken clouds</td>\n",
       "      <td>few clouds</td>\n",
       "      <td>sky is clear</td>\n",
       "      <td>few clouds</td>\n",
       "      <td>sky is clear</td>\n",
       "      <td>sky is clear</td>\n",
       "      <td>broken clouds</td>\n",
       "      <td>overcast clouds</td>\n",
       "      <td>sky is clear</td>\n",
       "      <td>overcast clouds</td>\n",
       "    </tr>\n",
       "    <tr>\n",
       "      <th>3</th>\n",
       "      <td>2012-10-01 15:00:00</td>\n",
       "      <td>broken clouds</td>\n",
       "      <td>scattered clouds</td>\n",
       "      <td>sky is clear</td>\n",
       "      <td>sky is clear</td>\n",
       "      <td>sky is clear</td>\n",
       "      <td>sky is clear</td>\n",
       "      <td>sky is clear</td>\n",
       "      <td>sky is clear</td>\n",
       "      <td>sky is clear</td>\n",
       "      <td>...</td>\n",
       "      <td>broken clouds</td>\n",
       "      <td>few clouds</td>\n",
       "      <td>sky is clear</td>\n",
       "      <td>few clouds</td>\n",
       "      <td>overcast clouds</td>\n",
       "      <td>sky is clear</td>\n",
       "      <td>broken clouds</td>\n",
       "      <td>overcast clouds</td>\n",
       "      <td>overcast clouds</td>\n",
       "      <td>overcast clouds</td>\n",
       "    </tr>\n",
       "    <tr>\n",
       "      <th>4</th>\n",
       "      <td>2012-10-01 16:00:00</td>\n",
       "      <td>broken clouds</td>\n",
       "      <td>scattered clouds</td>\n",
       "      <td>sky is clear</td>\n",
       "      <td>sky is clear</td>\n",
       "      <td>sky is clear</td>\n",
       "      <td>sky is clear</td>\n",
       "      <td>sky is clear</td>\n",
       "      <td>sky is clear</td>\n",
       "      <td>sky is clear</td>\n",
       "      <td>...</td>\n",
       "      <td>broken clouds</td>\n",
       "      <td>few clouds</td>\n",
       "      <td>sky is clear</td>\n",
       "      <td>few clouds</td>\n",
       "      <td>overcast clouds</td>\n",
       "      <td>sky is clear</td>\n",
       "      <td>broken clouds</td>\n",
       "      <td>overcast clouds</td>\n",
       "      <td>overcast clouds</td>\n",
       "      <td>overcast clouds</td>\n",
       "    </tr>\n",
       "  </tbody>\n",
       "</table>\n",
       "<p>5 rows × 37 columns</p>\n",
       "</div>"
      ],
      "text/plain": [
       "              datetime      Vancouver          Portland San Francisco  \\\n",
       "0  2012-10-01 12:00:00            NaN               NaN           NaN   \n",
       "1  2012-10-01 13:00:00           mist  scattered clouds    light rain   \n",
       "2  2012-10-01 14:00:00  broken clouds  scattered clouds  sky is clear   \n",
       "3  2012-10-01 15:00:00  broken clouds  scattered clouds  sky is clear   \n",
       "4  2012-10-01 16:00:00  broken clouds  scattered clouds  sky is clear   \n",
       "\n",
       "        Seattle   Los Angeles     San Diego     Las Vegas       Phoenix  \\\n",
       "0           NaN           NaN           NaN           NaN           NaN   \n",
       "1  sky is clear          mist  sky is clear  sky is clear  sky is clear   \n",
       "2  sky is clear  sky is clear  sky is clear  sky is clear  sky is clear   \n",
       "3  sky is clear  sky is clear  sky is clear  sky is clear  sky is clear   \n",
       "4  sky is clear  sky is clear  sky is clear  sky is clear  sky is clear   \n",
       "\n",
       "    Albuquerque       ...          Philadelphia    New York         Montreal  \\\n",
       "0           NaN       ...                   NaN         NaN              NaN   \n",
       "1  sky is clear       ...         broken clouds  few clouds  overcast clouds   \n",
       "2  sky is clear       ...         broken clouds  few clouds     sky is clear   \n",
       "3  sky is clear       ...         broken clouds  few clouds     sky is clear   \n",
       "4  sky is clear       ...         broken clouds  few clouds     sky is clear   \n",
       "\n",
       "         Boston        Beersheba Tel Aviv District          Eilat  \\\n",
       "0           NaN              NaN               NaN           haze   \n",
       "1  sky is clear     sky is clear      sky is clear           haze   \n",
       "2    few clouds     sky is clear      sky is clear  broken clouds   \n",
       "3    few clouds  overcast clouds      sky is clear  broken clouds   \n",
       "4    few clouds  overcast clouds      sky is clear  broken clouds   \n",
       "\n",
       "             Haifa        Nahariyya        Jerusalem  \n",
       "0              NaN              NaN              NaN  \n",
       "1     sky is clear     sky is clear     sky is clear  \n",
       "2  overcast clouds     sky is clear  overcast clouds  \n",
       "3  overcast clouds  overcast clouds  overcast clouds  \n",
       "4  overcast clouds  overcast clouds  overcast clouds  \n",
       "\n",
       "[5 rows x 37 columns]"
      ]
     },
     "execution_count": 5,
     "metadata": {},
     "output_type": "execute_result"
    }
   ],
   "source": [
    "w_desc = dfs[\"weather_description.csv\"]\n",
    "w_desc.head()"
   ]
  },
  {
   "cell_type": "code",
   "execution_count": 6,
   "metadata": {},
   "outputs": [],
   "source": [
    "w_desc = (\n",
    "    w_desc\n",
    "    .assign(datetime = pd.to_datetime(w_desc[\"datetime\"]))\n",
    "    .set_index(\"datetime\")\n",
    ")"
   ]
  },
  {
   "cell_type": "code",
   "execution_count": 7,
   "metadata": {},
   "outputs": [
    {
     "name": "stdout",
     "output_type": "stream",
     "text": [
      "<class 'pandas.core.frame.DataFrame'>\n",
      "DatetimeIndex: 45253 entries, 2012-10-01 12:00:00 to 2017-11-30 00:00:00\n",
      "Data columns (total 36 columns):\n",
      "Vancouver            44460 non-null object\n",
      "Portland             45252 non-null object\n",
      "San Francisco        44460 non-null object\n",
      "Seattle              45252 non-null object\n",
      "Los Angeles          45252 non-null object\n",
      "San Diego            45252 non-null object\n",
      "Las Vegas            45252 non-null object\n",
      "Phoenix              45252 non-null object\n",
      "Albuquerque          45252 non-null object\n",
      "Denver               45252 non-null object\n",
      "San Antonio          45252 non-null object\n",
      "Dallas               45252 non-null object\n",
      "Houston              45252 non-null object\n",
      "Kansas City          45252 non-null object\n",
      "Minneapolis          45252 non-null object\n",
      "Saint Louis          45252 non-null object\n",
      "Chicago              45252 non-null object\n",
      "Nashville            45252 non-null object\n",
      "Indianapolis         45252 non-null object\n",
      "Atlanta              45252 non-null object\n",
      "Detroit              45252 non-null object\n",
      "Jacksonville         45252 non-null object\n",
      "Charlotte            45252 non-null object\n",
      "Miami                44460 non-null object\n",
      "Pittsburgh           45252 non-null object\n",
      "Toronto              45252 non-null object\n",
      "Philadelphia         45252 non-null object\n",
      "New York             44460 non-null object\n",
      "Montreal             45252 non-null object\n",
      "Boston               45252 non-null object\n",
      "Beersheba            44460 non-null object\n",
      "Tel Aviv District    44460 non-null object\n",
      "Eilat                44461 non-null object\n",
      "Haifa                44460 non-null object\n",
      "Nahariyya            44460 non-null object\n",
      "Jerusalem            44460 non-null object\n",
      "dtypes: object(36)\n",
      "memory usage: 12.8+ MB\n"
     ]
    }
   ],
   "source": [
    "w_desc.info()"
   ]
  },
  {
   "cell_type": "markdown",
   "metadata": {},
   "source": [
    "# Tip 1. Selecting the complement: ~"
   ]
  },
  {
   "cell_type": "markdown",
   "metadata": {},
   "source": [
    "**Motivation:**  \n",
    "Reversing a simple logical selection is normally easy. When the selection becomes a little more complicated reversing it is still possible through normal methods (e.g. and/or). However, The complement operator is a much neater way to solve this problem."
   ]
  },
  {
   "cell_type": "code",
   "execution_count": 8,
   "metadata": {},
   "outputs": [
    {
     "data": {
      "text/html": [
       "<div>\n",
       "<style scoped>\n",
       "    .dataframe tbody tr th:only-of-type {\n",
       "        vertical-align: middle;\n",
       "    }\n",
       "\n",
       "    .dataframe tbody tr th {\n",
       "        vertical-align: top;\n",
       "    }\n",
       "\n",
       "    .dataframe thead th {\n",
       "        text-align: right;\n",
       "    }\n",
       "</style>\n",
       "<table border=\"1\" class=\"dataframe\">\n",
       "  <thead>\n",
       "    <tr style=\"text-align: right;\">\n",
       "      <th></th>\n",
       "      <th>Vancouver</th>\n",
       "      <th>Portland</th>\n",
       "      <th>San Francisco</th>\n",
       "      <th>Seattle</th>\n",
       "      <th>Los Angeles</th>\n",
       "      <th>San Diego</th>\n",
       "      <th>Las Vegas</th>\n",
       "      <th>Phoenix</th>\n",
       "      <th>Albuquerque</th>\n",
       "      <th>Denver</th>\n",
       "      <th>...</th>\n",
       "      <th>Philadelphia</th>\n",
       "      <th>New York</th>\n",
       "      <th>Montreal</th>\n",
       "      <th>Boston</th>\n",
       "      <th>Beersheba</th>\n",
       "      <th>Tel Aviv District</th>\n",
       "      <th>Eilat</th>\n",
       "      <th>Haifa</th>\n",
       "      <th>Nahariyya</th>\n",
       "      <th>Jerusalem</th>\n",
       "    </tr>\n",
       "    <tr>\n",
       "      <th>datetime</th>\n",
       "      <th></th>\n",
       "      <th></th>\n",
       "      <th></th>\n",
       "      <th></th>\n",
       "      <th></th>\n",
       "      <th></th>\n",
       "      <th></th>\n",
       "      <th></th>\n",
       "      <th></th>\n",
       "      <th></th>\n",
       "      <th></th>\n",
       "      <th></th>\n",
       "      <th></th>\n",
       "      <th></th>\n",
       "      <th></th>\n",
       "      <th></th>\n",
       "      <th></th>\n",
       "      <th></th>\n",
       "      <th></th>\n",
       "      <th></th>\n",
       "      <th></th>\n",
       "    </tr>\n",
       "  </thead>\n",
       "  <tbody>\n",
       "    <tr>\n",
       "      <th>2012-10-01 12:00:00</th>\n",
       "      <td>NaN</td>\n",
       "      <td>NaN</td>\n",
       "      <td>NaN</td>\n",
       "      <td>NaN</td>\n",
       "      <td>NaN</td>\n",
       "      <td>NaN</td>\n",
       "      <td>NaN</td>\n",
       "      <td>NaN</td>\n",
       "      <td>NaN</td>\n",
       "      <td>NaN</td>\n",
       "      <td>...</td>\n",
       "      <td>NaN</td>\n",
       "      <td>NaN</td>\n",
       "      <td>NaN</td>\n",
       "      <td>NaN</td>\n",
       "      <td>NaN</td>\n",
       "      <td>NaN</td>\n",
       "      <td>haze</td>\n",
       "      <td>NaN</td>\n",
       "      <td>NaN</td>\n",
       "      <td>NaN</td>\n",
       "    </tr>\n",
       "    <tr>\n",
       "      <th>2012-10-01 14:00:00</th>\n",
       "      <td>broken clouds</td>\n",
       "      <td>scattered clouds</td>\n",
       "      <td>sky is clear</td>\n",
       "      <td>sky is clear</td>\n",
       "      <td>sky is clear</td>\n",
       "      <td>sky is clear</td>\n",
       "      <td>sky is clear</td>\n",
       "      <td>sky is clear</td>\n",
       "      <td>sky is clear</td>\n",
       "      <td>broken clouds</td>\n",
       "      <td>...</td>\n",
       "      <td>broken clouds</td>\n",
       "      <td>few clouds</td>\n",
       "      <td>sky is clear</td>\n",
       "      <td>few clouds</td>\n",
       "      <td>sky is clear</td>\n",
       "      <td>sky is clear</td>\n",
       "      <td>broken clouds</td>\n",
       "      <td>overcast clouds</td>\n",
       "      <td>sky is clear</td>\n",
       "      <td>overcast clouds</td>\n",
       "    </tr>\n",
       "    <tr>\n",
       "      <th>2012-10-01 15:00:00</th>\n",
       "      <td>broken clouds</td>\n",
       "      <td>scattered clouds</td>\n",
       "      <td>sky is clear</td>\n",
       "      <td>sky is clear</td>\n",
       "      <td>sky is clear</td>\n",
       "      <td>sky is clear</td>\n",
       "      <td>sky is clear</td>\n",
       "      <td>sky is clear</td>\n",
       "      <td>sky is clear</td>\n",
       "      <td>broken clouds</td>\n",
       "      <td>...</td>\n",
       "      <td>broken clouds</td>\n",
       "      <td>few clouds</td>\n",
       "      <td>sky is clear</td>\n",
       "      <td>few clouds</td>\n",
       "      <td>overcast clouds</td>\n",
       "      <td>sky is clear</td>\n",
       "      <td>broken clouds</td>\n",
       "      <td>overcast clouds</td>\n",
       "      <td>overcast clouds</td>\n",
       "      <td>overcast clouds</td>\n",
       "    </tr>\n",
       "    <tr>\n",
       "      <th>2012-10-01 16:00:00</th>\n",
       "      <td>broken clouds</td>\n",
       "      <td>scattered clouds</td>\n",
       "      <td>sky is clear</td>\n",
       "      <td>sky is clear</td>\n",
       "      <td>sky is clear</td>\n",
       "      <td>sky is clear</td>\n",
       "      <td>sky is clear</td>\n",
       "      <td>sky is clear</td>\n",
       "      <td>sky is clear</td>\n",
       "      <td>broken clouds</td>\n",
       "      <td>...</td>\n",
       "      <td>broken clouds</td>\n",
       "      <td>few clouds</td>\n",
       "      <td>sky is clear</td>\n",
       "      <td>few clouds</td>\n",
       "      <td>overcast clouds</td>\n",
       "      <td>sky is clear</td>\n",
       "      <td>broken clouds</td>\n",
       "      <td>overcast clouds</td>\n",
       "      <td>overcast clouds</td>\n",
       "      <td>overcast clouds</td>\n",
       "    </tr>\n",
       "    <tr>\n",
       "      <th>2012-10-01 17:00:00</th>\n",
       "      <td>broken clouds</td>\n",
       "      <td>scattered clouds</td>\n",
       "      <td>sky is clear</td>\n",
       "      <td>sky is clear</td>\n",
       "      <td>sky is clear</td>\n",
       "      <td>sky is clear</td>\n",
       "      <td>sky is clear</td>\n",
       "      <td>sky is clear</td>\n",
       "      <td>sky is clear</td>\n",
       "      <td>broken clouds</td>\n",
       "      <td>...</td>\n",
       "      <td>broken clouds</td>\n",
       "      <td>few clouds</td>\n",
       "      <td>sky is clear</td>\n",
       "      <td>few clouds</td>\n",
       "      <td>overcast clouds</td>\n",
       "      <td>sky is clear</td>\n",
       "      <td>broken clouds</td>\n",
       "      <td>overcast clouds</td>\n",
       "      <td>overcast clouds</td>\n",
       "      <td>overcast clouds</td>\n",
       "    </tr>\n",
       "  </tbody>\n",
       "</table>\n",
       "<p>5 rows × 36 columns</p>\n",
       "</div>"
      ],
      "text/plain": [
       "                         Vancouver          Portland San Francisco  \\\n",
       "datetime                                                             \n",
       "2012-10-01 12:00:00            NaN               NaN           NaN   \n",
       "2012-10-01 14:00:00  broken clouds  scattered clouds  sky is clear   \n",
       "2012-10-01 15:00:00  broken clouds  scattered clouds  sky is clear   \n",
       "2012-10-01 16:00:00  broken clouds  scattered clouds  sky is clear   \n",
       "2012-10-01 17:00:00  broken clouds  scattered clouds  sky is clear   \n",
       "\n",
       "                          Seattle   Los Angeles     San Diego     Las Vegas  \\\n",
       "datetime                                                                      \n",
       "2012-10-01 12:00:00           NaN           NaN           NaN           NaN   \n",
       "2012-10-01 14:00:00  sky is clear  sky is clear  sky is clear  sky is clear   \n",
       "2012-10-01 15:00:00  sky is clear  sky is clear  sky is clear  sky is clear   \n",
       "2012-10-01 16:00:00  sky is clear  sky is clear  sky is clear  sky is clear   \n",
       "2012-10-01 17:00:00  sky is clear  sky is clear  sky is clear  sky is clear   \n",
       "\n",
       "                          Phoenix   Albuquerque         Denver  \\\n",
       "datetime                                                         \n",
       "2012-10-01 12:00:00           NaN           NaN            NaN   \n",
       "2012-10-01 14:00:00  sky is clear  sky is clear  broken clouds   \n",
       "2012-10-01 15:00:00  sky is clear  sky is clear  broken clouds   \n",
       "2012-10-01 16:00:00  sky is clear  sky is clear  broken clouds   \n",
       "2012-10-01 17:00:00  sky is clear  sky is clear  broken clouds   \n",
       "\n",
       "                          ...          Philadelphia    New York      Montreal  \\\n",
       "datetime                  ...                                                   \n",
       "2012-10-01 12:00:00       ...                   NaN         NaN           NaN   \n",
       "2012-10-01 14:00:00       ...         broken clouds  few clouds  sky is clear   \n",
       "2012-10-01 15:00:00       ...         broken clouds  few clouds  sky is clear   \n",
       "2012-10-01 16:00:00       ...         broken clouds  few clouds  sky is clear   \n",
       "2012-10-01 17:00:00       ...         broken clouds  few clouds  sky is clear   \n",
       "\n",
       "                         Boston        Beersheba Tel Aviv District  \\\n",
       "datetime                                                             \n",
       "2012-10-01 12:00:00         NaN              NaN               NaN   \n",
       "2012-10-01 14:00:00  few clouds     sky is clear      sky is clear   \n",
       "2012-10-01 15:00:00  few clouds  overcast clouds      sky is clear   \n",
       "2012-10-01 16:00:00  few clouds  overcast clouds      sky is clear   \n",
       "2012-10-01 17:00:00  few clouds  overcast clouds      sky is clear   \n",
       "\n",
       "                             Eilat            Haifa        Nahariyya  \\\n",
       "datetime                                                               \n",
       "2012-10-01 12:00:00           haze              NaN              NaN   \n",
       "2012-10-01 14:00:00  broken clouds  overcast clouds     sky is clear   \n",
       "2012-10-01 15:00:00  broken clouds  overcast clouds  overcast clouds   \n",
       "2012-10-01 16:00:00  broken clouds  overcast clouds  overcast clouds   \n",
       "2012-10-01 17:00:00  broken clouds  overcast clouds  overcast clouds   \n",
       "\n",
       "                           Jerusalem  \n",
       "datetime                              \n",
       "2012-10-01 12:00:00              NaN  \n",
       "2012-10-01 14:00:00  overcast clouds  \n",
       "2012-10-01 15:00:00  overcast clouds  \n",
       "2012-10-01 16:00:00  overcast clouds  \n",
       "2012-10-01 17:00:00  overcast clouds  \n",
       "\n",
       "[5 rows x 36 columns]"
      ]
     },
     "execution_count": 8,
     "metadata": {},
     "output_type": "execute_result"
    }
   ],
   "source": [
    "w_desc[(w_desc.Vancouver != \"mist\")].head()"
   ]
  },
  {
   "cell_type": "markdown",
   "metadata": {},
   "source": [
    "_____"
   ]
  },
  {
   "cell_type": "code",
   "execution_count": 9,
   "metadata": {},
   "outputs": [
    {
     "data": {
      "text/html": [
       "<div>\n",
       "<style scoped>\n",
       "    .dataframe tbody tr th:only-of-type {\n",
       "        vertical-align: middle;\n",
       "    }\n",
       "\n",
       "    .dataframe tbody tr th {\n",
       "        vertical-align: top;\n",
       "    }\n",
       "\n",
       "    .dataframe thead th {\n",
       "        text-align: right;\n",
       "    }\n",
       "</style>\n",
       "<table border=\"1\" class=\"dataframe\">\n",
       "  <thead>\n",
       "    <tr style=\"text-align: right;\">\n",
       "      <th></th>\n",
       "      <th>Vancouver</th>\n",
       "      <th>Portland</th>\n",
       "      <th>San Francisco</th>\n",
       "      <th>Seattle</th>\n",
       "      <th>Los Angeles</th>\n",
       "      <th>San Diego</th>\n",
       "      <th>Las Vegas</th>\n",
       "      <th>Phoenix</th>\n",
       "      <th>Albuquerque</th>\n",
       "      <th>Denver</th>\n",
       "      <th>...</th>\n",
       "      <th>Philadelphia</th>\n",
       "      <th>New York</th>\n",
       "      <th>Montreal</th>\n",
       "      <th>Boston</th>\n",
       "      <th>Beersheba</th>\n",
       "      <th>Tel Aviv District</th>\n",
       "      <th>Eilat</th>\n",
       "      <th>Haifa</th>\n",
       "      <th>Nahariyya</th>\n",
       "      <th>Jerusalem</th>\n",
       "    </tr>\n",
       "    <tr>\n",
       "      <th>datetime</th>\n",
       "      <th></th>\n",
       "      <th></th>\n",
       "      <th></th>\n",
       "      <th></th>\n",
       "      <th></th>\n",
       "      <th></th>\n",
       "      <th></th>\n",
       "      <th></th>\n",
       "      <th></th>\n",
       "      <th></th>\n",
       "      <th></th>\n",
       "      <th></th>\n",
       "      <th></th>\n",
       "      <th></th>\n",
       "      <th></th>\n",
       "      <th></th>\n",
       "      <th></th>\n",
       "      <th></th>\n",
       "      <th></th>\n",
       "      <th></th>\n",
       "      <th></th>\n",
       "    </tr>\n",
       "  </thead>\n",
       "  <tbody>\n",
       "    <tr>\n",
       "      <th>2012-10-01 13:00:00</th>\n",
       "      <td>mist</td>\n",
       "      <td>scattered clouds</td>\n",
       "      <td>light rain</td>\n",
       "      <td>sky is clear</td>\n",
       "      <td>mist</td>\n",
       "      <td>sky is clear</td>\n",
       "      <td>sky is clear</td>\n",
       "      <td>sky is clear</td>\n",
       "      <td>sky is clear</td>\n",
       "      <td>light rain</td>\n",
       "      <td>...</td>\n",
       "      <td>broken clouds</td>\n",
       "      <td>few clouds</td>\n",
       "      <td>overcast clouds</td>\n",
       "      <td>sky is clear</td>\n",
       "      <td>sky is clear</td>\n",
       "      <td>sky is clear</td>\n",
       "      <td>haze</td>\n",
       "      <td>sky is clear</td>\n",
       "      <td>sky is clear</td>\n",
       "      <td>sky is clear</td>\n",
       "    </tr>\n",
       "    <tr>\n",
       "      <th>2012-10-11 15:00:00</th>\n",
       "      <td>mist</td>\n",
       "      <td>sky is clear</td>\n",
       "      <td>broken clouds</td>\n",
       "      <td>mist</td>\n",
       "      <td>scattered clouds</td>\n",
       "      <td>light rain</td>\n",
       "      <td>scattered clouds</td>\n",
       "      <td>few clouds</td>\n",
       "      <td>sky is clear</td>\n",
       "      <td>haze</td>\n",
       "      <td>...</td>\n",
       "      <td>light rain</td>\n",
       "      <td>overcast clouds</td>\n",
       "      <td>overcast clouds</td>\n",
       "      <td>sky is clear</td>\n",
       "      <td>sky is clear</td>\n",
       "      <td>sky is clear</td>\n",
       "      <td>sky is clear</td>\n",
       "      <td>sky is clear</td>\n",
       "      <td>sky is clear</td>\n",
       "      <td>sky is clear</td>\n",
       "    </tr>\n",
       "    <tr>\n",
       "      <th>2012-10-12 07:00:00</th>\n",
       "      <td>mist</td>\n",
       "      <td>mist</td>\n",
       "      <td>broken clouds</td>\n",
       "      <td>mist</td>\n",
       "      <td>broken clouds</td>\n",
       "      <td>scattered clouds</td>\n",
       "      <td>light rain</td>\n",
       "      <td>sky is clear</td>\n",
       "      <td>sky is clear</td>\n",
       "      <td>sky is clear</td>\n",
       "      <td>...</td>\n",
       "      <td>sky is clear</td>\n",
       "      <td>few clouds</td>\n",
       "      <td>broken clouds</td>\n",
       "      <td>mist</td>\n",
       "      <td>sky is clear</td>\n",
       "      <td>sky is clear</td>\n",
       "      <td>sky is clear</td>\n",
       "      <td>sky is clear</td>\n",
       "      <td>sky is clear</td>\n",
       "      <td>sky is clear</td>\n",
       "    </tr>\n",
       "    <tr>\n",
       "      <th>2012-10-12 08:00:00</th>\n",
       "      <td>mist</td>\n",
       "      <td>mist</td>\n",
       "      <td>light rain</td>\n",
       "      <td>overcast clouds</td>\n",
       "      <td>sky is clear</td>\n",
       "      <td>broken clouds</td>\n",
       "      <td>proximity thunderstorm</td>\n",
       "      <td>sky is clear</td>\n",
       "      <td>sky is clear</td>\n",
       "      <td>sky is clear</td>\n",
       "      <td>...</td>\n",
       "      <td>sky is clear</td>\n",
       "      <td>few clouds</td>\n",
       "      <td>broken clouds</td>\n",
       "      <td>mist</td>\n",
       "      <td>sky is clear</td>\n",
       "      <td>sky is clear</td>\n",
       "      <td>sky is clear</td>\n",
       "      <td>sky is clear</td>\n",
       "      <td>sky is clear</td>\n",
       "      <td>sky is clear</td>\n",
       "    </tr>\n",
       "    <tr>\n",
       "      <th>2012-10-12 09:00:00</th>\n",
       "      <td>mist</td>\n",
       "      <td>mist</td>\n",
       "      <td>light rain</td>\n",
       "      <td>overcast clouds</td>\n",
       "      <td>sky is clear</td>\n",
       "      <td>broken clouds</td>\n",
       "      <td>proximity thunderstorm</td>\n",
       "      <td>sky is clear</td>\n",
       "      <td>sky is clear</td>\n",
       "      <td>few clouds</td>\n",
       "      <td>...</td>\n",
       "      <td>few clouds</td>\n",
       "      <td>sky is clear</td>\n",
       "      <td>overcast clouds</td>\n",
       "      <td>mist</td>\n",
       "      <td>sky is clear</td>\n",
       "      <td>sky is clear</td>\n",
       "      <td>sky is clear</td>\n",
       "      <td>sky is clear</td>\n",
       "      <td>sky is clear</td>\n",
       "      <td>sky is clear</td>\n",
       "    </tr>\n",
       "  </tbody>\n",
       "</table>\n",
       "<p>5 rows × 36 columns</p>\n",
       "</div>"
      ],
      "text/plain": [
       "                    Vancouver          Portland  San Francisco  \\\n",
       "datetime                                                         \n",
       "2012-10-01 13:00:00      mist  scattered clouds     light rain   \n",
       "2012-10-11 15:00:00      mist      sky is clear  broken clouds   \n",
       "2012-10-12 07:00:00      mist              mist  broken clouds   \n",
       "2012-10-12 08:00:00      mist              mist     light rain   \n",
       "2012-10-12 09:00:00      mist              mist     light rain   \n",
       "\n",
       "                             Seattle       Los Angeles         San Diego  \\\n",
       "datetime                                                                   \n",
       "2012-10-01 13:00:00     sky is clear              mist      sky is clear   \n",
       "2012-10-11 15:00:00             mist  scattered clouds        light rain   \n",
       "2012-10-12 07:00:00             mist     broken clouds  scattered clouds   \n",
       "2012-10-12 08:00:00  overcast clouds      sky is clear     broken clouds   \n",
       "2012-10-12 09:00:00  overcast clouds      sky is clear     broken clouds   \n",
       "\n",
       "                                  Las Vegas       Phoenix   Albuquerque  \\\n",
       "datetime                                                                  \n",
       "2012-10-01 13:00:00            sky is clear  sky is clear  sky is clear   \n",
       "2012-10-11 15:00:00        scattered clouds    few clouds  sky is clear   \n",
       "2012-10-12 07:00:00              light rain  sky is clear  sky is clear   \n",
       "2012-10-12 08:00:00  proximity thunderstorm  sky is clear  sky is clear   \n",
       "2012-10-12 09:00:00  proximity thunderstorm  sky is clear  sky is clear   \n",
       "\n",
       "                           Denver      ...        Philadelphia  \\\n",
       "datetime                               ...                       \n",
       "2012-10-01 13:00:00    light rain      ...       broken clouds   \n",
       "2012-10-11 15:00:00          haze      ...          light rain   \n",
       "2012-10-12 07:00:00  sky is clear      ...        sky is clear   \n",
       "2012-10-12 08:00:00  sky is clear      ...        sky is clear   \n",
       "2012-10-12 09:00:00    few clouds      ...          few clouds   \n",
       "\n",
       "                            New York         Montreal        Boston  \\\n",
       "datetime                                                              \n",
       "2012-10-01 13:00:00       few clouds  overcast clouds  sky is clear   \n",
       "2012-10-11 15:00:00  overcast clouds  overcast clouds  sky is clear   \n",
       "2012-10-12 07:00:00       few clouds    broken clouds          mist   \n",
       "2012-10-12 08:00:00       few clouds    broken clouds          mist   \n",
       "2012-10-12 09:00:00     sky is clear  overcast clouds          mist   \n",
       "\n",
       "                        Beersheba Tel Aviv District         Eilat  \\\n",
       "datetime                                                            \n",
       "2012-10-01 13:00:00  sky is clear      sky is clear          haze   \n",
       "2012-10-11 15:00:00  sky is clear      sky is clear  sky is clear   \n",
       "2012-10-12 07:00:00  sky is clear      sky is clear  sky is clear   \n",
       "2012-10-12 08:00:00  sky is clear      sky is clear  sky is clear   \n",
       "2012-10-12 09:00:00  sky is clear      sky is clear  sky is clear   \n",
       "\n",
       "                            Haifa     Nahariyya     Jerusalem  \n",
       "datetime                                                       \n",
       "2012-10-01 13:00:00  sky is clear  sky is clear  sky is clear  \n",
       "2012-10-11 15:00:00  sky is clear  sky is clear  sky is clear  \n",
       "2012-10-12 07:00:00  sky is clear  sky is clear  sky is clear  \n",
       "2012-10-12 08:00:00  sky is clear  sky is clear  sky is clear  \n",
       "2012-10-12 09:00:00  sky is clear  sky is clear  sky is clear  \n",
       "\n",
       "[5 rows x 36 columns]"
      ]
     },
     "execution_count": 9,
     "metadata": {},
     "output_type": "execute_result"
    }
   ],
   "source": [
    "w_desc[(w_desc.Vancouver == \"mist\")].head()"
   ]
  },
  {
   "cell_type": "markdown",
   "metadata": {},
   "source": [
    "_____"
   ]
  },
  {
   "cell_type": "markdown",
   "metadata": {},
   "source": [
    "How would we find the complement of this? Certainly we could work it out, but our intent would be less explicit in the code."
   ]
  },
  {
   "cell_type": "code",
   "execution_count": 10,
   "metadata": {},
   "outputs": [
    {
     "data": {
      "text/html": [
       "<div>\n",
       "<style scoped>\n",
       "    .dataframe tbody tr th:only-of-type {\n",
       "        vertical-align: middle;\n",
       "    }\n",
       "\n",
       "    .dataframe tbody tr th {\n",
       "        vertical-align: top;\n",
       "    }\n",
       "\n",
       "    .dataframe thead th {\n",
       "        text-align: right;\n",
       "    }\n",
       "</style>\n",
       "<table border=\"1\" class=\"dataframe\">\n",
       "  <thead>\n",
       "    <tr style=\"text-align: right;\">\n",
       "      <th></th>\n",
       "      <th>Vancouver</th>\n",
       "      <th>Portland</th>\n",
       "      <th>Phoenix</th>\n",
       "      <th>Seattle</th>\n",
       "    </tr>\n",
       "    <tr>\n",
       "      <th>datetime</th>\n",
       "      <th></th>\n",
       "      <th></th>\n",
       "      <th></th>\n",
       "      <th></th>\n",
       "    </tr>\n",
       "  </thead>\n",
       "  <tbody>\n",
       "    <tr>\n",
       "      <th>2012-10-01 12:00:00</th>\n",
       "      <td>NaN</td>\n",
       "      <td>NaN</td>\n",
       "      <td>NaN</td>\n",
       "      <td>NaN</td>\n",
       "    </tr>\n",
       "    <tr>\n",
       "      <th>2012-10-01 13:00:00</th>\n",
       "      <td>mist</td>\n",
       "      <td>scattered clouds</td>\n",
       "      <td>sky is clear</td>\n",
       "      <td>sky is clear</td>\n",
       "    </tr>\n",
       "    <tr>\n",
       "      <th>2012-10-01 14:00:00</th>\n",
       "      <td>broken clouds</td>\n",
       "      <td>scattered clouds</td>\n",
       "      <td>sky is clear</td>\n",
       "      <td>sky is clear</td>\n",
       "    </tr>\n",
       "    <tr>\n",
       "      <th>2012-10-01 15:00:00</th>\n",
       "      <td>broken clouds</td>\n",
       "      <td>scattered clouds</td>\n",
       "      <td>sky is clear</td>\n",
       "      <td>sky is clear</td>\n",
       "    </tr>\n",
       "    <tr>\n",
       "      <th>2012-10-01 16:00:00</th>\n",
       "      <td>broken clouds</td>\n",
       "      <td>scattered clouds</td>\n",
       "      <td>sky is clear</td>\n",
       "      <td>sky is clear</td>\n",
       "    </tr>\n",
       "  </tbody>\n",
       "</table>\n",
       "</div>"
      ],
      "text/plain": [
       "                         Vancouver          Portland       Phoenix  \\\n",
       "datetime                                                             \n",
       "2012-10-01 12:00:00            NaN               NaN           NaN   \n",
       "2012-10-01 13:00:00           mist  scattered clouds  sky is clear   \n",
       "2012-10-01 14:00:00  broken clouds  scattered clouds  sky is clear   \n",
       "2012-10-01 15:00:00  broken clouds  scattered clouds  sky is clear   \n",
       "2012-10-01 16:00:00  broken clouds  scattered clouds  sky is clear   \n",
       "\n",
       "                          Seattle  \n",
       "datetime                           \n",
       "2012-10-01 12:00:00           NaN  \n",
       "2012-10-01 13:00:00  sky is clear  \n",
       "2012-10-01 14:00:00  sky is clear  \n",
       "2012-10-01 15:00:00  sky is clear  \n",
       "2012-10-01 16:00:00  sky is clear  "
      ]
     },
     "execution_count": 10,
     "metadata": {},
     "output_type": "execute_result"
    }
   ],
   "source": [
    "w_desc[\n",
    "    ((w_desc.Vancouver != \"mist\") | (w_desc.Phoenix == \"sky is clear\"))\n",
    "    & \n",
    "    ((w_desc.Portland != \"mist\") | (w_desc.Seattle != \"sky is clear\"))\n",
    "].head()[[\"Vancouver\", \"Portland\", \"Phoenix\", \"Seattle\"]]"
   ]
  },
  {
   "cell_type": "markdown",
   "metadata": {},
   "source": [
    "_____"
   ]
  },
  {
   "cell_type": "code",
   "execution_count": 11,
   "metadata": {},
   "outputs": [
    {
     "data": {
      "text/html": [
       "<div>\n",
       "<style scoped>\n",
       "    .dataframe tbody tr th:only-of-type {\n",
       "        vertical-align: middle;\n",
       "    }\n",
       "\n",
       "    .dataframe tbody tr th {\n",
       "        vertical-align: top;\n",
       "    }\n",
       "\n",
       "    .dataframe thead th {\n",
       "        text-align: right;\n",
       "    }\n",
       "</style>\n",
       "<table border=\"1\" class=\"dataframe\">\n",
       "  <thead>\n",
       "    <tr style=\"text-align: right;\">\n",
       "      <th></th>\n",
       "      <th>Vancouver</th>\n",
       "      <th>Portland</th>\n",
       "      <th>Phoenix</th>\n",
       "      <th>Seattle</th>\n",
       "    </tr>\n",
       "    <tr>\n",
       "      <th>datetime</th>\n",
       "      <th></th>\n",
       "      <th></th>\n",
       "      <th></th>\n",
       "      <th></th>\n",
       "    </tr>\n",
       "  </thead>\n",
       "  <tbody>\n",
       "    <tr>\n",
       "      <th>2012-10-11 15:00:00</th>\n",
       "      <td>mist</td>\n",
       "      <td>sky is clear</td>\n",
       "      <td>few clouds</td>\n",
       "      <td>mist</td>\n",
       "    </tr>\n",
       "    <tr>\n",
       "      <th>2012-10-12 13:00:00</th>\n",
       "      <td>mist</td>\n",
       "      <td>mist</td>\n",
       "      <td>broken clouds</td>\n",
       "      <td>mist</td>\n",
       "    </tr>\n",
       "    <tr>\n",
       "      <th>2012-10-12 14:00:00</th>\n",
       "      <td>mist</td>\n",
       "      <td>mist</td>\n",
       "      <td>light rain</td>\n",
       "      <td>mist</td>\n",
       "    </tr>\n",
       "    <tr>\n",
       "      <th>2012-10-12 15:00:00</th>\n",
       "      <td>mist</td>\n",
       "      <td>fog</td>\n",
       "      <td>proximity shower rain</td>\n",
       "      <td>mist</td>\n",
       "    </tr>\n",
       "    <tr>\n",
       "      <th>2012-10-12 16:00:00</th>\n",
       "      <td>mist</td>\n",
       "      <td>fog</td>\n",
       "      <td>broken clouds</td>\n",
       "      <td>mist</td>\n",
       "    </tr>\n",
       "  </tbody>\n",
       "</table>\n",
       "</div>"
      ],
      "text/plain": [
       "                    Vancouver      Portland                Phoenix Seattle\n",
       "datetime                                                                  \n",
       "2012-10-11 15:00:00      mist  sky is clear             few clouds    mist\n",
       "2012-10-12 13:00:00      mist          mist          broken clouds    mist\n",
       "2012-10-12 14:00:00      mist          mist             light rain    mist\n",
       "2012-10-12 15:00:00      mist           fog  proximity shower rain    mist\n",
       "2012-10-12 16:00:00      mist           fog          broken clouds    mist"
      ]
     },
     "execution_count": 11,
     "metadata": {},
     "output_type": "execute_result"
    }
   ],
   "source": [
    "w_desc[~(\n",
    "    ((w_desc.Vancouver != \"mist\") | (w_desc.Phoenix == \"sky is clear\"))\n",
    "    & \n",
    "    ((w_desc.Portland != \"mist\") | (w_desc.Seattle != \"sky is clear\"))\n",
    ")].head()[[\"Vancouver\", \"Portland\", \"Phoenix\", \"Seattle\"]]"
   ]
  },
  {
   "cell_type": "markdown",
   "metadata": {},
   "source": [
    "_____"
   ]
  },
  {
   "cell_type": "markdown",
   "metadata": {},
   "source": [
    "# Tip 2. Relative frequency of categorical variable: value_counts()"
   ]
  },
  {
   "cell_type": "markdown",
   "metadata": {},
   "source": [
    "**Motivation:**  \n",
    "One of the first things we want to do when we get a new dataset is to have a sense for the data. This is normally achieved by looking at each variable independently, producing summary statistics and distributions.  \n",
    "This might be a little challenging for categorical variables. Here is a nice method to do it quickly."
   ]
  },
  {
   "cell_type": "code",
   "execution_count": 12,
   "metadata": {},
   "outputs": [
    {
     "data": {
      "text/plain": [
       "New York\n",
       "sky is clear        0.260931\n",
       "broken clouds       0.140868\n",
       "mist                0.121795\n",
       "scattered clouds    0.103351\n",
       "overcast clouds     0.100787\n",
       "dtype: float64"
      ]
     },
     "execution_count": 12,
     "metadata": {},
     "output_type": "execute_result"
    }
   ],
   "source": [
    "(w_desc.groupby(\"New York\").size() / w_desc[\"New York\"].count()).sort_values(ascending=False)[:5]"
   ]
  },
  {
   "cell_type": "markdown",
   "metadata": {},
   "source": [
    "___"
   ]
  },
  {
   "cell_type": "code",
   "execution_count": 13,
   "metadata": {},
   "outputs": [
    {
     "data": {
      "text/plain": [
       "sky is clear        0.260931\n",
       "broken clouds       0.140868\n",
       "mist                0.121795\n",
       "scattered clouds    0.103351\n",
       "overcast clouds     0.100787\n",
       "Name: New York, dtype: float64"
      ]
     },
     "execution_count": 13,
     "metadata": {},
     "output_type": "execute_result"
    }
   ],
   "source": [
    "w_desc[\"New York\"].value_counts(normalize=True)[:5]"
   ]
  },
  {
   "cell_type": "markdown",
   "metadata": {},
   "source": [
    "____"
   ]
  },
  {
   "cell_type": "markdown",
   "metadata": {},
   "source": [
    "But how does it handle Nan/NULL values?"
   ]
  },
  {
   "cell_type": "code",
   "execution_count": 14,
   "metadata": {},
   "outputs": [
    {
     "data": {
      "text/plain": [
       "datetime\n",
       "2012-10-01 12:00:00           NaN\n",
       "2012-10-01 13:00:00    few clouds\n",
       "2012-10-01 14:00:00    few clouds\n",
       "2012-10-01 15:00:00    few clouds\n",
       "2012-10-01 16:00:00    few clouds\n",
       "Name: New York, dtype: object"
      ]
     },
     "execution_count": 14,
     "metadata": {},
     "output_type": "execute_result"
    }
   ],
   "source": [
    "w_desc[\"New York\"].head()"
   ]
  },
  {
   "cell_type": "markdown",
   "metadata": {},
   "source": [
    "There is one Nan in the first five values of this series."
   ]
  },
  {
   "cell_type": "code",
   "execution_count": 15,
   "metadata": {},
   "outputs": [
    {
     "data": {
      "text/plain": [
       "few clouds    4\n",
       "Name: New York, dtype: int64"
      ]
     },
     "execution_count": 15,
     "metadata": {},
     "output_type": "execute_result"
    }
   ],
   "source": [
    "w_desc[\"New York\"].head().value_counts()"
   ]
  },
  {
   "cell_type": "markdown",
   "metadata": {},
   "source": [
    "Nan/NULL values would be ignored"
   ]
  },
  {
   "cell_type": "markdown",
   "metadata": {},
   "source": [
    "# Tip 3. Using custom aggregate functions on a groupby: aggregate()"
   ]
  },
  {
   "cell_type": "markdown",
   "metadata": {},
   "source": [
    "**Motivation:**  \n",
    "Some aggregate functions are nicely accessible by method chaining in pandas. However, some other functions might be harder to access, or, perhaps, we would like to apply a custom aggregate function.  \n",
    "For example, what is the mode of a group of rows?"
   ]
  },
  {
   "cell_type": "markdown",
   "metadata": {},
   "source": [
    "We first extract the date from our datetime index."
   ]
  },
  {
   "cell_type": "code",
   "execution_count": 16,
   "metadata": {},
   "outputs": [
    {
     "data": {
      "text/html": [
       "<div>\n",
       "<style scoped>\n",
       "    .dataframe tbody tr th:only-of-type {\n",
       "        vertical-align: middle;\n",
       "    }\n",
       "\n",
       "    .dataframe tbody tr th {\n",
       "        vertical-align: top;\n",
       "    }\n",
       "\n",
       "    .dataframe thead th {\n",
       "        text-align: right;\n",
       "    }\n",
       "</style>\n",
       "<table border=\"1\" class=\"dataframe\">\n",
       "  <thead>\n",
       "    <tr style=\"text-align: right;\">\n",
       "      <th></th>\n",
       "      <th>datetime</th>\n",
       "      <th>Portland</th>\n",
       "      <th>day</th>\n",
       "    </tr>\n",
       "  </thead>\n",
       "  <tbody>\n",
       "    <tr>\n",
       "      <th>0</th>\n",
       "      <td>2012-10-01 12:00:00</td>\n",
       "      <td>NaN</td>\n",
       "      <td>2012-10-01</td>\n",
       "    </tr>\n",
       "    <tr>\n",
       "      <th>1</th>\n",
       "      <td>2012-10-01 13:00:00</td>\n",
       "      <td>scattered clouds</td>\n",
       "      <td>2012-10-01</td>\n",
       "    </tr>\n",
       "    <tr>\n",
       "      <th>2</th>\n",
       "      <td>2012-10-01 14:00:00</td>\n",
       "      <td>scattered clouds</td>\n",
       "      <td>2012-10-01</td>\n",
       "    </tr>\n",
       "    <tr>\n",
       "      <th>3</th>\n",
       "      <td>2012-10-01 15:00:00</td>\n",
       "      <td>scattered clouds</td>\n",
       "      <td>2012-10-01</td>\n",
       "    </tr>\n",
       "    <tr>\n",
       "      <th>4</th>\n",
       "      <td>2012-10-01 16:00:00</td>\n",
       "      <td>scattered clouds</td>\n",
       "      <td>2012-10-01</td>\n",
       "    </tr>\n",
       "  </tbody>\n",
       "</table>\n",
       "</div>"
      ],
      "text/plain": [
       "             datetime          Portland         day\n",
       "0 2012-10-01 12:00:00               NaN  2012-10-01\n",
       "1 2012-10-01 13:00:00  scattered clouds  2012-10-01\n",
       "2 2012-10-01 14:00:00  scattered clouds  2012-10-01\n",
       "3 2012-10-01 15:00:00  scattered clouds  2012-10-01\n",
       "4 2012-10-01 16:00:00  scattered clouds  2012-10-01"
      ]
     },
     "execution_count": 16,
     "metadata": {},
     "output_type": "execute_result"
    }
   ],
   "source": [
    "w_desc_port_agg = w_desc[\"Portland\"]\n",
    "\n",
    "# Two ways to accomplish the same objective. I prefer the one not commented out.\n",
    "# w_desc_port_agg['day'] = w_desc_port_agg.reset_index()['datetime'].dt.date\n",
    "w_desc_port_agg = w_desc_port_agg.reset_index().assign(\n",
    "    day= (\n",
    "        w_desc_port_agg\n",
    "        .reset_index()\n",
    "        .datetime\n",
    "        .dt.date\n",
    "    )\n",
    ")\n",
    "w_desc_port_agg.head(5)"
   ]
  },
  {
   "cell_type": "markdown",
   "metadata": {},
   "source": [
    "Now we use the aggregate() method to find the mode for each day.  \n",
    "NULL values: each day has 24 hours with 24 values for the wind label variable. Now we will only retain the one that appears most often during a day"
   ]
  },
  {
   "cell_type": "markdown",
   "metadata": {},
   "source": [
    "___"
   ]
  },
  {
   "cell_type": "code",
   "execution_count": 17,
   "metadata": {},
   "outputs": [
    {
     "data": {
      "text/html": [
       "<div>\n",
       "<style scoped>\n",
       "    .dataframe tbody tr th:only-of-type {\n",
       "        vertical-align: middle;\n",
       "    }\n",
       "\n",
       "    .dataframe tbody tr th {\n",
       "        vertical-align: top;\n",
       "    }\n",
       "\n",
       "    .dataframe thead th {\n",
       "        text-align: right;\n",
       "    }\n",
       "</style>\n",
       "<table border=\"1\" class=\"dataframe\">\n",
       "  <thead>\n",
       "    <tr style=\"text-align: right;\">\n",
       "      <th></th>\n",
       "      <th>day</th>\n",
       "      <th>Portland</th>\n",
       "    </tr>\n",
       "  </thead>\n",
       "  <tbody>\n",
       "    <tr>\n",
       "      <th>0</th>\n",
       "      <td>2012-10-01</td>\n",
       "      <td>scattered clouds</td>\n",
       "    </tr>\n",
       "    <tr>\n",
       "      <th>1</th>\n",
       "      <td>2012-10-02</td>\n",
       "      <td>scattered clouds</td>\n",
       "    </tr>\n",
       "    <tr>\n",
       "      <th>2</th>\n",
       "      <td>2012-10-03</td>\n",
       "      <td>few clouds</td>\n",
       "    </tr>\n",
       "    <tr>\n",
       "      <th>3</th>\n",
       "      <td>2012-10-04</td>\n",
       "      <td>sky is clear</td>\n",
       "    </tr>\n",
       "    <tr>\n",
       "      <th>4</th>\n",
       "      <td>2012-10-05</td>\n",
       "      <td>sky is clear</td>\n",
       "    </tr>\n",
       "  </tbody>\n",
       "</table>\n",
       "</div>"
      ],
      "text/plain": [
       "          day          Portland\n",
       "0  2012-10-01  scattered clouds\n",
       "1  2012-10-02  scattered clouds\n",
       "2  2012-10-03        few clouds\n",
       "3  2012-10-04      sky is clear\n",
       "4  2012-10-05      sky is clear"
      ]
     },
     "execution_count": 17,
     "metadata": {},
     "output_type": "execute_result"
    }
   ],
   "source": [
    "w_desc_port_agg = (\n",
    "    w_desc_port_agg\n",
    "    .groupby(\"day\")\n",
    "    [\"Portland\"]\n",
    "    .aggregate(pd.Series.mode)\n",
    "    .reset_index()\n",
    ")\n",
    "w_desc_port_agg.head(5)"
   ]
  },
  {
   "cell_type": "markdown",
   "metadata": {},
   "source": [
    "___"
   ]
  },
  {
   "cell_type": "markdown",
   "metadata": {},
   "source": [
    "# Tip 4. Sampling: sample()"
   ]
  },
  {
   "cell_type": "markdown",
   "metadata": {},
   "source": [
    "**Motivation:**  \n",
    "Often we want to sample our data.  \n",
    "At times is simple random sampling. At times it is a different kind of sampling.  \n",
    "Some of the cases for these techniques are bootstrapping and ex-post stratification.  "
   ]
  },
  {
   "cell_type": "markdown",
   "metadata": {},
   "source": [
    "We first prepare the data in order to have a month-day variable."
   ]
  },
  {
   "cell_type": "code",
   "execution_count": 18,
   "metadata": {},
   "outputs": [
    {
     "data": {
      "text/html": [
       "<div>\n",
       "<style scoped>\n",
       "    .dataframe tbody tr th:only-of-type {\n",
       "        vertical-align: middle;\n",
       "    }\n",
       "\n",
       "    .dataframe tbody tr th {\n",
       "        vertical-align: top;\n",
       "    }\n",
       "\n",
       "    .dataframe thead th {\n",
       "        text-align: right;\n",
       "    }\n",
       "</style>\n",
       "<table border=\"1\" class=\"dataframe\">\n",
       "  <thead>\n",
       "    <tr style=\"text-align: right;\">\n",
       "      <th></th>\n",
       "      <th>day</th>\n",
       "      <th>Portland</th>\n",
       "      <th>month_day</th>\n",
       "    </tr>\n",
       "  </thead>\n",
       "  <tbody>\n",
       "    <tr>\n",
       "      <th>0</th>\n",
       "      <td>2012-10-01</td>\n",
       "      <td>scattered clouds</td>\n",
       "      <td>(10, 1)</td>\n",
       "    </tr>\n",
       "    <tr>\n",
       "      <th>1</th>\n",
       "      <td>2012-10-02</td>\n",
       "      <td>scattered clouds</td>\n",
       "      <td>(10, 2)</td>\n",
       "    </tr>\n",
       "    <tr>\n",
       "      <th>2</th>\n",
       "      <td>2012-10-03</td>\n",
       "      <td>few clouds</td>\n",
       "      <td>(10, 3)</td>\n",
       "    </tr>\n",
       "    <tr>\n",
       "      <th>3</th>\n",
       "      <td>2012-10-04</td>\n",
       "      <td>sky is clear</td>\n",
       "      <td>(10, 4)</td>\n",
       "    </tr>\n",
       "    <tr>\n",
       "      <th>4</th>\n",
       "      <td>2012-10-05</td>\n",
       "      <td>sky is clear</td>\n",
       "      <td>(10, 5)</td>\n",
       "    </tr>\n",
       "  </tbody>\n",
       "</table>\n",
       "</div>"
      ],
      "text/plain": [
       "          day          Portland month_day\n",
       "0  2012-10-01  scattered clouds   (10, 1)\n",
       "1  2012-10-02  scattered clouds   (10, 2)\n",
       "2  2012-10-03        few clouds   (10, 3)\n",
       "3  2012-10-04      sky is clear   (10, 4)\n",
       "4  2012-10-05      sky is clear   (10, 5)"
      ]
     },
     "execution_count": 18,
     "metadata": {},
     "output_type": "execute_result"
    }
   ],
   "source": [
    "w_desc_port_agg = w_desc_port_agg.assign(\n",
    "    month_day = (\n",
    "        pd.to_datetime(w_desc_port_agg.day)\n",
    "        .apply(lambda x : (x.month, x.day))\n",
    "    ))\n",
    "w_desc_port_agg.head()"
   ]
  },
  {
   "cell_type": "markdown",
   "metadata": {},
   "source": [
    "Simple random sampling:  \n",
    "___"
   ]
  },
  {
   "cell_type": "code",
   "execution_count": 19,
   "metadata": {},
   "outputs": [
    {
     "data": {
      "text/html": [
       "<div>\n",
       "<style scoped>\n",
       "    .dataframe tbody tr th:only-of-type {\n",
       "        vertical-align: middle;\n",
       "    }\n",
       "\n",
       "    .dataframe tbody tr th {\n",
       "        vertical-align: top;\n",
       "    }\n",
       "\n",
       "    .dataframe thead th {\n",
       "        text-align: right;\n",
       "    }\n",
       "</style>\n",
       "<table border=\"1\" class=\"dataframe\">\n",
       "  <thead>\n",
       "    <tr style=\"text-align: right;\">\n",
       "      <th></th>\n",
       "      <th>day</th>\n",
       "      <th>Portland</th>\n",
       "      <th>month_day</th>\n",
       "    </tr>\n",
       "  </thead>\n",
       "  <tbody>\n",
       "    <tr>\n",
       "      <th>804</th>\n",
       "      <td>2014-12-14</td>\n",
       "      <td>few clouds</td>\n",
       "      <td>(12, 14)</td>\n",
       "    </tr>\n",
       "    <tr>\n",
       "      <th>1167</th>\n",
       "      <td>2015-12-12</td>\n",
       "      <td>mist</td>\n",
       "      <td>(12, 12)</td>\n",
       "    </tr>\n",
       "    <tr>\n",
       "      <th>539</th>\n",
       "      <td>2014-03-24</td>\n",
       "      <td>[broken clouds, scattered clouds]</td>\n",
       "      <td>(3, 24)</td>\n",
       "    </tr>\n",
       "    <tr>\n",
       "      <th>742</th>\n",
       "      <td>2014-10-13</td>\n",
       "      <td>scattered clouds</td>\n",
       "      <td>(10, 13)</td>\n",
       "    </tr>\n",
       "    <tr>\n",
       "      <th>1814</th>\n",
       "      <td>2017-09-19</td>\n",
       "      <td>light rain</td>\n",
       "      <td>(9, 19)</td>\n",
       "    </tr>\n",
       "  </tbody>\n",
       "</table>\n",
       "</div>"
      ],
      "text/plain": [
       "             day                           Portland month_day\n",
       "804   2014-12-14                         few clouds  (12, 14)\n",
       "1167  2015-12-12                               mist  (12, 12)\n",
       "539   2014-03-24  [broken clouds, scattered clouds]   (3, 24)\n",
       "742   2014-10-13                   scattered clouds  (10, 13)\n",
       "1814  2017-09-19                         light rain   (9, 19)"
      ]
     },
     "execution_count": 19,
     "metadata": {},
     "output_type": "execute_result"
    }
   ],
   "source": [
    "w_desc_port_agg.sample(5)"
   ]
  },
  {
   "cell_type": "markdown",
   "metadata": {},
   "source": [
    "___"
   ]
  },
  {
   "cell_type": "markdown",
   "metadata": {},
   "source": [
    "Let's look at stratification:\n",
    "___"
   ]
  },
  {
   "cell_type": "code",
   "execution_count": 20,
   "metadata": {},
   "outputs": [
    {
     "data": {
      "text/html": [
       "<div>\n",
       "<style scoped>\n",
       "    .dataframe tbody tr th:only-of-type {\n",
       "        vertical-align: middle;\n",
       "    }\n",
       "\n",
       "    .dataframe tbody tr th {\n",
       "        vertical-align: top;\n",
       "    }\n",
       "\n",
       "    .dataframe thead th {\n",
       "        text-align: right;\n",
       "    }\n",
       "</style>\n",
       "<table border=\"1\" class=\"dataframe\">\n",
       "  <thead>\n",
       "    <tr style=\"text-align: right;\">\n",
       "      <th></th>\n",
       "      <th>day</th>\n",
       "      <th>Portland</th>\n",
       "      <th>month_day</th>\n",
       "    </tr>\n",
       "  </thead>\n",
       "  <tbody>\n",
       "    <tr>\n",
       "      <th>457</th>\n",
       "      <td>2014-01-01</td>\n",
       "      <td>mist</td>\n",
       "      <td>(1, 1)</td>\n",
       "    </tr>\n",
       "    <tr>\n",
       "      <th>822</th>\n",
       "      <td>2015-01-01</td>\n",
       "      <td>sky is clear</td>\n",
       "      <td>(1, 1)</td>\n",
       "    </tr>\n",
       "    <tr>\n",
       "      <th>92</th>\n",
       "      <td>2013-01-01</td>\n",
       "      <td>mist</td>\n",
       "      <td>(1, 1)</td>\n",
       "    </tr>\n",
       "    <tr>\n",
       "      <th>1554</th>\n",
       "      <td>2017-01-02</td>\n",
       "      <td>overcast clouds</td>\n",
       "      <td>(1, 2)</td>\n",
       "    </tr>\n",
       "    <tr>\n",
       "      <th>1188</th>\n",
       "      <td>2016-01-02</td>\n",
       "      <td>sky is clear</td>\n",
       "      <td>(1, 2)</td>\n",
       "    </tr>\n",
       "  </tbody>\n",
       "</table>\n",
       "</div>"
      ],
      "text/plain": [
       "             day         Portland month_day\n",
       "457   2014-01-01             mist    (1, 1)\n",
       "822   2015-01-01     sky is clear    (1, 1)\n",
       "92    2013-01-01             mist    (1, 1)\n",
       "1554  2017-01-02  overcast clouds    (1, 2)\n",
       "1188  2016-01-02     sky is clear    (1, 2)"
      ]
     },
     "execution_count": 20,
     "metadata": {},
     "output_type": "execute_result"
    }
   ],
   "source": [
    "w_desc_port_agg.groupby(\"month_day\", group_keys=False).apply(lambda x : x.sample(min(len(x),3))).head()"
   ]
  },
  {
   "cell_type": "markdown",
   "metadata": {},
   "source": [
    "___"
   ]
  },
  {
   "cell_type": "markdown",
   "metadata": {},
   "source": [
    "# Inspecting wind direction data"
   ]
  },
  {
   "cell_type": "code",
   "execution_count": 21,
   "metadata": {},
   "outputs": [
    {
     "data": {
      "text/html": [
       "<div>\n",
       "<style scoped>\n",
       "    .dataframe tbody tr th:only-of-type {\n",
       "        vertical-align: middle;\n",
       "    }\n",
       "\n",
       "    .dataframe tbody tr th {\n",
       "        vertical-align: top;\n",
       "    }\n",
       "\n",
       "    .dataframe thead th {\n",
       "        text-align: right;\n",
       "    }\n",
       "</style>\n",
       "<table border=\"1\" class=\"dataframe\">\n",
       "  <thead>\n",
       "    <tr style=\"text-align: right;\">\n",
       "      <th></th>\n",
       "      <th>datetime</th>\n",
       "      <th>Vancouver</th>\n",
       "      <th>Portland</th>\n",
       "      <th>San Francisco</th>\n",
       "      <th>Seattle</th>\n",
       "      <th>Los Angeles</th>\n",
       "      <th>San Diego</th>\n",
       "      <th>Las Vegas</th>\n",
       "      <th>Phoenix</th>\n",
       "      <th>Albuquerque</th>\n",
       "      <th>...</th>\n",
       "      <th>Philadelphia</th>\n",
       "      <th>New York</th>\n",
       "      <th>Montreal</th>\n",
       "      <th>Boston</th>\n",
       "      <th>Beersheba</th>\n",
       "      <th>Tel Aviv District</th>\n",
       "      <th>Eilat</th>\n",
       "      <th>Haifa</th>\n",
       "      <th>Nahariyya</th>\n",
       "      <th>Jerusalem</th>\n",
       "    </tr>\n",
       "  </thead>\n",
       "  <tbody>\n",
       "    <tr>\n",
       "      <th>0</th>\n",
       "      <td>2012-10-01 12:00:00</td>\n",
       "      <td>NaN</td>\n",
       "      <td>NaN</td>\n",
       "      <td>NaN</td>\n",
       "      <td>NaN</td>\n",
       "      <td>NaN</td>\n",
       "      <td>NaN</td>\n",
       "      <td>NaN</td>\n",
       "      <td>NaN</td>\n",
       "      <td>NaN</td>\n",
       "      <td>...</td>\n",
       "      <td>NaN</td>\n",
       "      <td>NaN</td>\n",
       "      <td>NaN</td>\n",
       "      <td>NaN</td>\n",
       "      <td>NaN</td>\n",
       "      <td>NaN</td>\n",
       "      <td>360.0</td>\n",
       "      <td>NaN</td>\n",
       "      <td>NaN</td>\n",
       "      <td>NaN</td>\n",
       "    </tr>\n",
       "    <tr>\n",
       "      <th>1</th>\n",
       "      <td>2012-10-01 13:00:00</td>\n",
       "      <td>0.0</td>\n",
       "      <td>0.0</td>\n",
       "      <td>150.0</td>\n",
       "      <td>0.0</td>\n",
       "      <td>0.0</td>\n",
       "      <td>0.0</td>\n",
       "      <td>0.0</td>\n",
       "      <td>10.0</td>\n",
       "      <td>360.0</td>\n",
       "      <td>...</td>\n",
       "      <td>270.0</td>\n",
       "      <td>260.0</td>\n",
       "      <td>230.0</td>\n",
       "      <td>60.0</td>\n",
       "      <td>135.0</td>\n",
       "      <td>101.0</td>\n",
       "      <td>30.0</td>\n",
       "      <td>336.0</td>\n",
       "      <td>336.0</td>\n",
       "      <td>329.0</td>\n",
       "    </tr>\n",
       "    <tr>\n",
       "      <th>2</th>\n",
       "      <td>2012-10-01 14:00:00</td>\n",
       "      <td>6.0</td>\n",
       "      <td>4.0</td>\n",
       "      <td>147.0</td>\n",
       "      <td>2.0</td>\n",
       "      <td>0.0</td>\n",
       "      <td>0.0</td>\n",
       "      <td>8.0</td>\n",
       "      <td>9.0</td>\n",
       "      <td>360.0</td>\n",
       "      <td>...</td>\n",
       "      <td>270.0</td>\n",
       "      <td>260.0</td>\n",
       "      <td>230.0</td>\n",
       "      <td>60.0</td>\n",
       "      <td>157.0</td>\n",
       "      <td>315.0</td>\n",
       "      <td>30.0</td>\n",
       "      <td>336.0</td>\n",
       "      <td>336.0</td>\n",
       "      <td>329.0</td>\n",
       "    </tr>\n",
       "    <tr>\n",
       "      <th>3</th>\n",
       "      <td>2012-10-01 15:00:00</td>\n",
       "      <td>20.0</td>\n",
       "      <td>18.0</td>\n",
       "      <td>141.0</td>\n",
       "      <td>10.0</td>\n",
       "      <td>0.0</td>\n",
       "      <td>0.0</td>\n",
       "      <td>23.0</td>\n",
       "      <td>9.0</td>\n",
       "      <td>360.0</td>\n",
       "      <td>...</td>\n",
       "      <td>271.0</td>\n",
       "      <td>260.0</td>\n",
       "      <td>231.0</td>\n",
       "      <td>60.0</td>\n",
       "      <td>157.0</td>\n",
       "      <td>307.0</td>\n",
       "      <td>30.0</td>\n",
       "      <td>336.0</td>\n",
       "      <td>336.0</td>\n",
       "      <td>329.0</td>\n",
       "    </tr>\n",
       "    <tr>\n",
       "      <th>4</th>\n",
       "      <td>2012-10-01 16:00:00</td>\n",
       "      <td>34.0</td>\n",
       "      <td>31.0</td>\n",
       "      <td>135.0</td>\n",
       "      <td>17.0</td>\n",
       "      <td>0.0</td>\n",
       "      <td>0.0</td>\n",
       "      <td>37.0</td>\n",
       "      <td>9.0</td>\n",
       "      <td>360.0</td>\n",
       "      <td>...</td>\n",
       "      <td>272.0</td>\n",
       "      <td>260.0</td>\n",
       "      <td>233.0</td>\n",
       "      <td>60.0</td>\n",
       "      <td>157.0</td>\n",
       "      <td>294.0</td>\n",
       "      <td>30.0</td>\n",
       "      <td>336.0</td>\n",
       "      <td>336.0</td>\n",
       "      <td>329.0</td>\n",
       "    </tr>\n",
       "  </tbody>\n",
       "</table>\n",
       "<p>5 rows × 37 columns</p>\n",
       "</div>"
      ],
      "text/plain": [
       "              datetime  Vancouver  Portland  San Francisco  Seattle  \\\n",
       "0  2012-10-01 12:00:00        NaN       NaN            NaN      NaN   \n",
       "1  2012-10-01 13:00:00        0.0       0.0          150.0      0.0   \n",
       "2  2012-10-01 14:00:00        6.0       4.0          147.0      2.0   \n",
       "3  2012-10-01 15:00:00       20.0      18.0          141.0     10.0   \n",
       "4  2012-10-01 16:00:00       34.0      31.0          135.0     17.0   \n",
       "\n",
       "   Los Angeles  San Diego  Las Vegas  Phoenix  Albuquerque    ...      \\\n",
       "0          NaN        NaN        NaN      NaN          NaN    ...       \n",
       "1          0.0        0.0        0.0     10.0        360.0    ...       \n",
       "2          0.0        0.0        8.0      9.0        360.0    ...       \n",
       "3          0.0        0.0       23.0      9.0        360.0    ...       \n",
       "4          0.0        0.0       37.0      9.0        360.0    ...       \n",
       "\n",
       "   Philadelphia  New York  Montreal  Boston  Beersheba  Tel Aviv District  \\\n",
       "0           NaN       NaN       NaN     NaN        NaN                NaN   \n",
       "1         270.0     260.0     230.0    60.0      135.0              101.0   \n",
       "2         270.0     260.0     230.0    60.0      157.0              315.0   \n",
       "3         271.0     260.0     231.0    60.0      157.0              307.0   \n",
       "4         272.0     260.0     233.0    60.0      157.0              294.0   \n",
       "\n",
       "   Eilat  Haifa  Nahariyya  Jerusalem  \n",
       "0  360.0    NaN        NaN        NaN  \n",
       "1   30.0  336.0      336.0      329.0  \n",
       "2   30.0  336.0      336.0      329.0  \n",
       "3   30.0  336.0      336.0      329.0  \n",
       "4   30.0  336.0      336.0      329.0  \n",
       "\n",
       "[5 rows x 37 columns]"
      ]
     },
     "execution_count": 21,
     "metadata": {},
     "output_type": "execute_result"
    }
   ],
   "source": [
    "w_dir = dfs[\"wind_direction.csv\"]\n",
    "w_dir.head()"
   ]
  },
  {
   "cell_type": "code",
   "execution_count": 22,
   "metadata": {},
   "outputs": [],
   "source": [
    "w_dir = (\n",
    "    w_dir\n",
    "    .assign(datetime = pd.to_datetime(w_dir[\"datetime\"]))\n",
    "    .set_index(\"datetime\")\n",
    ")"
   ]
  },
  {
   "cell_type": "markdown",
   "metadata": {},
   "source": [
    "# Tip 5. Mapping a continuous variable to a categorical variable: cut()"
   ]
  },
  {
   "cell_type": "markdown",
   "metadata": {},
   "source": [
    "**Motivation:**  \n",
    "Sometimes we want to transform a continuous variable into a categorical variable.  \n",
    "This might be for the simple purpose of creating a histogram with custom width bins or because our model deals better with categorical data.  \n",
    "Perhaps, it is simply because it is easier to visualize."
   ]
  },
  {
   "cell_type": "code",
   "execution_count": 23,
   "metadata": {},
   "outputs": [],
   "source": [
    "twelve_winds = [\"NNE\", \"NE\", \"ENE\", \"ESE\", \"SE\", \"SSE\", \"SSW\", \"SW\", \"WSW\", \"WNW\", \"NW\", \"NNW\"]"
   ]
  },
  {
   "cell_type": "markdown",
   "metadata": {},
   "source": [
    "Let's use the list above to create custom bins  \n",
    "____"
   ]
  },
  {
   "cell_type": "code",
   "execution_count": 24,
   "metadata": {},
   "outputs": [
    {
     "data": {
      "text/html": [
       "<div>\n",
       "<style scoped>\n",
       "    .dataframe tbody tr th:only-of-type {\n",
       "        vertical-align: middle;\n",
       "    }\n",
       "\n",
       "    .dataframe tbody tr th {\n",
       "        vertical-align: top;\n",
       "    }\n",
       "\n",
       "    .dataframe thead th {\n",
       "        text-align: right;\n",
       "    }\n",
       "</style>\n",
       "<table border=\"1\" class=\"dataframe\">\n",
       "  <thead>\n",
       "    <tr style=\"text-align: right;\">\n",
       "      <th></th>\n",
       "      <th>San Francisco</th>\n",
       "      <th>wind_direction</th>\n",
       "    </tr>\n",
       "    <tr>\n",
       "      <th>datetime</th>\n",
       "      <th></th>\n",
       "      <th></th>\n",
       "    </tr>\n",
       "  </thead>\n",
       "  <tbody>\n",
       "    <tr>\n",
       "      <th>2012-10-01 12:00:00</th>\n",
       "      <td>NaN</td>\n",
       "      <td>NaN</td>\n",
       "    </tr>\n",
       "    <tr>\n",
       "      <th>2012-10-01 13:00:00</th>\n",
       "      <td>150.0</td>\n",
       "      <td>SE</td>\n",
       "    </tr>\n",
       "    <tr>\n",
       "      <th>2012-10-01 14:00:00</th>\n",
       "      <td>147.0</td>\n",
       "      <td>SE</td>\n",
       "    </tr>\n",
       "    <tr>\n",
       "      <th>2012-10-01 15:00:00</th>\n",
       "      <td>141.0</td>\n",
       "      <td>SE</td>\n",
       "    </tr>\n",
       "    <tr>\n",
       "      <th>2012-10-01 16:00:00</th>\n",
       "      <td>135.0</td>\n",
       "      <td>SE</td>\n",
       "    </tr>\n",
       "  </tbody>\n",
       "</table>\n",
       "</div>"
      ],
      "text/plain": [
       "                     San Francisco wind_direction\n",
       "datetime                                         \n",
       "2012-10-01 12:00:00            NaN            NaN\n",
       "2012-10-01 13:00:00          150.0             SE\n",
       "2012-10-01 14:00:00          147.0             SE\n",
       "2012-10-01 15:00:00          141.0             SE\n",
       "2012-10-01 16:00:00          135.0             SE"
      ]
     },
     "execution_count": 24,
     "metadata": {},
     "output_type": "execute_result"
    }
   ],
   "source": [
    "san_fran_wind = w_dir[[\"San Francisco\"]].assign(\n",
    "    wind_direction=pd.cut(\n",
    "        w_dir[\"San Francisco\"], \n",
    "        bins=12, \n",
    "        labels=twelve_winds\n",
    "    )\n",
    ")\n",
    "san_fran_wind.head()"
   ]
  },
  {
   "cell_type": "markdown",
   "metadata": {},
   "source": [
    "___"
   ]
  },
  {
   "cell_type": "code",
   "execution_count": 25,
   "metadata": {},
   "outputs": [
    {
     "data": {
      "image/png": "[encoded data removed]",
      "text/plain": [
       "<Figure size 720x288 with 1 Axes>"
      ]
     },
     "metadata": {
      "needs_background": "light"
     },
     "output_type": "display_data"
    }
   ],
   "source": [
    "san_fran_wind.wind_direction.value_counts(normalize=True, sort=False).plot.bar(figsize=(10,4));"
   ]
  },
  {
   "cell_type": "markdown",
   "metadata": {},
   "source": [
    "## Bonus tip 5.1: semicolumn after chart  \n",
    "Adding a semicolumn after a call to a chart creation prevents the return values of that call to be displayed in the output."
   ]
  },
  {
   "cell_type": "markdown",
   "metadata": {},
   "source": [
    "# Tip 6. One hot encoding: get_dummies()"
   ]
  },
  {
   "cell_type": "markdown",
   "metadata": {},
   "source": [
    "**Motivation:**   \n",
    "Some algorithms (or their implementations) do not cope well with multi level categorical data.  \n",
    "To solve this problem we might decide to use a technique called one hot encoding."
   ]
  },
  {
   "cell_type": "markdown",
   "metadata": {},
   "source": [
    "First, let's deal with the missing values"
   ]
  },
  {
   "cell_type": "code",
   "execution_count": 26,
   "metadata": {
    "scrolled": true
   },
   "outputs": [
    {
     "ename": "ValueError",
     "evalue": "fill value must be in categories",
     "output_type": "error",
     "traceback": [
      "\u001b[0;31m---------------------------------------------------------------------------\u001b[0m",
      "\u001b[0;31mValueError\u001b[0m                                Traceback (most recent call last)",
      "\u001b[0;32m<ipython-input-26-6ec1c59c072b>\u001b[0m in \u001b[0;36m<module>\u001b[0;34m()\u001b[0m\n\u001b[1;32m      3\u001b[0m         \u001b[0msan_fran_wind\u001b[0m\u001b[0;34m\u001b[0m\u001b[0m\n\u001b[1;32m      4\u001b[0m         \u001b[0;34m.\u001b[0m\u001b[0mwind_direction\u001b[0m\u001b[0;34m\u001b[0m\u001b[0m\n\u001b[0;32m----> 5\u001b[0;31m         \u001b[0;34m.\u001b[0m\u001b[0mfillna\u001b[0m\u001b[0;34m(\u001b[0m\u001b[0;34m\"No Wind\"\u001b[0m\u001b[0;34m)\u001b[0m\u001b[0;34m\u001b[0m\u001b[0m\n\u001b[0m\u001b[1;32m      6\u001b[0m     )\n\u001b[1;32m      7\u001b[0m )\n",
      "\u001b[0;32m/usr/local/lib/python3.7/site-packages/pandas/core/series.py\u001b[0m in \u001b[0;36mfillna\u001b[0;34m(self, value, method, axis, inplace, limit, downcast, **kwargs)\u001b[0m\n\u001b[1;32m   3423\u001b[0m                                           \u001b[0maxis\u001b[0m\u001b[0;34m=\u001b[0m\u001b[0maxis\u001b[0m\u001b[0;34m,\u001b[0m \u001b[0minplace\u001b[0m\u001b[0;34m=\u001b[0m\u001b[0minplace\u001b[0m\u001b[0;34m,\u001b[0m\u001b[0;34m\u001b[0m\u001b[0m\n\u001b[1;32m   3424\u001b[0m                                           \u001b[0mlimit\u001b[0m\u001b[0;34m=\u001b[0m\u001b[0mlimit\u001b[0m\u001b[0;34m,\u001b[0m \u001b[0mdowncast\u001b[0m\u001b[0;34m=\u001b[0m\u001b[0mdowncast\u001b[0m\u001b[0;34m,\u001b[0m\u001b[0;34m\u001b[0m\u001b[0m\n\u001b[0;32m-> 3425\u001b[0;31m                                           **kwargs)\n\u001b[0m\u001b[1;32m   3426\u001b[0m \u001b[0;34m\u001b[0m\u001b[0m\n\u001b[1;32m   3427\u001b[0m     \u001b[0;34m@\u001b[0m\u001b[0mAppender\u001b[0m\u001b[0;34m(\u001b[0m\u001b[0mgeneric\u001b[0m\u001b[0;34m.\u001b[0m\u001b[0m_shared_docs\u001b[0m\u001b[0;34m[\u001b[0m\u001b[0;34m'replace'\u001b[0m\u001b[0;34m]\u001b[0m \u001b[0;34m%\u001b[0m \u001b[0m_shared_doc_kwargs\u001b[0m\u001b[0;34m)\u001b[0m\u001b[0;34m\u001b[0m\u001b[0m\n",
      "\u001b[0;32m/usr/local/lib/python3.7/site-packages/pandas/core/generic.py\u001b[0m in \u001b[0;36mfillna\u001b[0;34m(self, value, method, axis, inplace, limit, downcast)\u001b[0m\n\u001b[1;32m   5406\u001b[0m                 new_data = self._data.fillna(value=value, limit=limit,\n\u001b[1;32m   5407\u001b[0m                                              \u001b[0minplace\u001b[0m\u001b[0;34m=\u001b[0m\u001b[0minplace\u001b[0m\u001b[0;34m,\u001b[0m\u001b[0;34m\u001b[0m\u001b[0m\n\u001b[0;32m-> 5408\u001b[0;31m                                              downcast=downcast)\n\u001b[0m\u001b[1;32m   5409\u001b[0m \u001b[0;34m\u001b[0m\u001b[0m\n\u001b[1;32m   5410\u001b[0m             \u001b[0;32melif\u001b[0m \u001b[0misinstance\u001b[0m\u001b[0;34m(\u001b[0m\u001b[0mvalue\u001b[0m\u001b[0;34m,\u001b[0m \u001b[0;34m(\u001b[0m\u001b[0mdict\u001b[0m\u001b[0;34m,\u001b[0m \u001b[0mABCSeries\u001b[0m\u001b[0;34m)\u001b[0m\u001b[0;34m)\u001b[0m\u001b[0;34m:\u001b[0m\u001b[0;34m\u001b[0m\u001b[0m\n",
      "\u001b[0;32m/usr/local/lib/python3.7/site-packages/pandas/core/internals.py\u001b[0m in \u001b[0;36mfillna\u001b[0;34m(self, **kwargs)\u001b[0m\n\u001b[1;32m   3706\u001b[0m \u001b[0;34m\u001b[0m\u001b[0m\n\u001b[1;32m   3707\u001b[0m     \u001b[0;32mdef\u001b[0m \u001b[0mfillna\u001b[0m\u001b[0;34m(\u001b[0m\u001b[0mself\u001b[0m\u001b[0;34m,\u001b[0m \u001b[0;34m**\u001b[0m\u001b[0mkwargs\u001b[0m\u001b[0;34m)\u001b[0m\u001b[0;34m:\u001b[0m\u001b[0;34m\u001b[0m\u001b[0m\n\u001b[0;32m-> 3708\u001b[0;31m         \u001b[0;32mreturn\u001b[0m \u001b[0mself\u001b[0m\u001b[0;34m.\u001b[0m\u001b[0mapply\u001b[0m\u001b[0;34m(\u001b[0m\u001b[0;34m'fillna'\u001b[0m\u001b[0;34m,\u001b[0m \u001b[0;34m**\u001b[0m\u001b[0mkwargs\u001b[0m\u001b[0;34m)\u001b[0m\u001b[0;34m\u001b[0m\u001b[0m\n\u001b[0m\u001b[1;32m   3709\u001b[0m \u001b[0;34m\u001b[0m\u001b[0m\n\u001b[1;32m   3710\u001b[0m     \u001b[0;32mdef\u001b[0m \u001b[0mdowncast\u001b[0m\u001b[0;34m(\u001b[0m\u001b[0mself\u001b[0m\u001b[0;34m,\u001b[0m \u001b[0;34m**\u001b[0m\u001b[0mkwargs\u001b[0m\u001b[0;34m)\u001b[0m\u001b[0;34m:\u001b[0m\u001b[0;34m\u001b[0m\u001b[0m\n",
      "\u001b[0;32m/usr/local/lib/python3.7/site-packages/pandas/core/internals.py\u001b[0m in \u001b[0;36mapply\u001b[0;34m(self, f, axes, filter, do_integrity_check, consolidate, **kwargs)\u001b[0m\n\u001b[1;32m   3579\u001b[0m \u001b[0;34m\u001b[0m\u001b[0m\n\u001b[1;32m   3580\u001b[0m             \u001b[0mkwargs\u001b[0m\u001b[0;34m[\u001b[0m\u001b[0;34m'mgr'\u001b[0m\u001b[0;34m]\u001b[0m \u001b[0;34m=\u001b[0m \u001b[0mself\u001b[0m\u001b[0;34m\u001b[0m\u001b[0m\n\u001b[0;32m-> 3581\u001b[0;31m             \u001b[0mapplied\u001b[0m \u001b[0;34m=\u001b[0m \u001b[0mgetattr\u001b[0m\u001b[0;34m(\u001b[0m\u001b[0mb\u001b[0m\u001b[0;34m,\u001b[0m \u001b[0mf\u001b[0m\u001b[0;34m)\u001b[0m\u001b[0;34m(\u001b[0m\u001b[0;34m**\u001b[0m\u001b[0mkwargs\u001b[0m\u001b[0;34m)\u001b[0m\u001b[0;34m\u001b[0m\u001b[0m\n\u001b[0m\u001b[1;32m   3582\u001b[0m             \u001b[0mresult_blocks\u001b[0m \u001b[0;34m=\u001b[0m \u001b[0m_extend_blocks\u001b[0m\u001b[0;34m(\u001b[0m\u001b[0mapplied\u001b[0m\u001b[0;34m,\u001b[0m \u001b[0mresult_blocks\u001b[0m\u001b[0;34m)\u001b[0m\u001b[0;34m\u001b[0m\u001b[0m\n\u001b[1;32m   3583\u001b[0m \u001b[0;34m\u001b[0m\u001b[0m\n",
      "\u001b[0;32m/usr/local/lib/python3.7/site-packages/pandas/core/internals.py\u001b[0m in \u001b[0;36mfillna\u001b[0;34m(self, value, limit, inplace, downcast, mgr)\u001b[0m\n\u001b[1;32m   2004\u001b[0m                mgr=None):\n\u001b[1;32m   2005\u001b[0m         \u001b[0mvalues\u001b[0m \u001b[0;34m=\u001b[0m \u001b[0mself\u001b[0m\u001b[0;34m.\u001b[0m\u001b[0mvalues\u001b[0m \u001b[0;32mif\u001b[0m \u001b[0minplace\u001b[0m \u001b[0;32melse\u001b[0m \u001b[0mself\u001b[0m\u001b[0;34m.\u001b[0m\u001b[0mvalues\u001b[0m\u001b[0;34m.\u001b[0m\u001b[0mcopy\u001b[0m\u001b[0;34m(\u001b[0m\u001b[0;34m)\u001b[0m\u001b[0;34m\u001b[0m\u001b[0m\n\u001b[0;32m-> 2006\u001b[0;31m         \u001b[0mvalues\u001b[0m \u001b[0;34m=\u001b[0m \u001b[0mvalues\u001b[0m\u001b[0;34m.\u001b[0m\u001b[0mfillna\u001b[0m\u001b[0;34m(\u001b[0m\u001b[0mvalue\u001b[0m\u001b[0;34m=\u001b[0m\u001b[0mvalue\u001b[0m\u001b[0;34m,\u001b[0m \u001b[0mlimit\u001b[0m\u001b[0;34m=\u001b[0m\u001b[0mlimit\u001b[0m\u001b[0;34m)\u001b[0m\u001b[0;34m\u001b[0m\u001b[0m\n\u001b[0m\u001b[1;32m   2007\u001b[0m         return [self.make_block_same_class(values=values,\n\u001b[1;32m   2008\u001b[0m                                            \u001b[0mplacement\u001b[0m\u001b[0;34m=\u001b[0m\u001b[0mself\u001b[0m\u001b[0;34m.\u001b[0m\u001b[0mmgr_locs\u001b[0m\u001b[0;34m,\u001b[0m\u001b[0;34m\u001b[0m\u001b[0m\n",
      "\u001b[0;32m/usr/local/lib/python3.7/site-packages/pandas/util/_decorators.py\u001b[0m in \u001b[0;36mwrapper\u001b[0;34m(*args, **kwargs)\u001b[0m\n\u001b[1;32m    176\u001b[0m                 \u001b[0;32melse\u001b[0m\u001b[0;34m:\u001b[0m\u001b[0;34m\u001b[0m\u001b[0m\n\u001b[1;32m    177\u001b[0m                     \u001b[0mkwargs\u001b[0m\u001b[0;34m[\u001b[0m\u001b[0mnew_arg_name\u001b[0m\u001b[0;34m]\u001b[0m \u001b[0;34m=\u001b[0m \u001b[0mnew_arg_value\u001b[0m\u001b[0;34m\u001b[0m\u001b[0m\n\u001b[0;32m--> 178\u001b[0;31m             \u001b[0;32mreturn\u001b[0m \u001b[0mfunc\u001b[0m\u001b[0;34m(\u001b[0m\u001b[0;34m*\u001b[0m\u001b[0margs\u001b[0m\u001b[0;34m,\u001b[0m \u001b[0;34m**\u001b[0m\u001b[0mkwargs\u001b[0m\u001b[0;34m)\u001b[0m\u001b[0;34m\u001b[0m\u001b[0m\n\u001b[0m\u001b[1;32m    179\u001b[0m         \u001b[0;32mreturn\u001b[0m \u001b[0mwrapper\u001b[0m\u001b[0;34m\u001b[0m\u001b[0m\n\u001b[1;32m    180\u001b[0m     \u001b[0;32mreturn\u001b[0m \u001b[0m_deprecate_kwarg\u001b[0m\u001b[0;34m\u001b[0m\u001b[0m\n",
      "\u001b[0;32m/usr/local/lib/python3.7/site-packages/pandas/core/arrays/categorical.py\u001b[0m in \u001b[0;36mfillna\u001b[0;34m(self, value, method, limit)\u001b[0m\n\u001b[1;32m   1754\u001b[0m             \u001b[0;32melif\u001b[0m \u001b[0mis_hashable\u001b[0m\u001b[0;34m(\u001b[0m\u001b[0mvalue\u001b[0m\u001b[0;34m)\u001b[0m\u001b[0;34m:\u001b[0m\u001b[0;34m\u001b[0m\u001b[0m\n\u001b[1;32m   1755\u001b[0m                 \u001b[0;32mif\u001b[0m \u001b[0;32mnot\u001b[0m \u001b[0misna\u001b[0m\u001b[0;34m(\u001b[0m\u001b[0mvalue\u001b[0m\u001b[0;34m)\u001b[0m \u001b[0;32mand\u001b[0m \u001b[0mvalue\u001b[0m \u001b[0;32mnot\u001b[0m \u001b[0;32min\u001b[0m \u001b[0mself\u001b[0m\u001b[0;34m.\u001b[0m\u001b[0mcategories\u001b[0m\u001b[0;34m:\u001b[0m\u001b[0;34m\u001b[0m\u001b[0m\n\u001b[0;32m-> 1756\u001b[0;31m                     \u001b[0;32mraise\u001b[0m \u001b[0mValueError\u001b[0m\u001b[0;34m(\u001b[0m\u001b[0;34m\"fill value must be in categories\"\u001b[0m\u001b[0;34m)\u001b[0m\u001b[0;34m\u001b[0m\u001b[0m\n\u001b[0m\u001b[1;32m   1757\u001b[0m \u001b[0;34m\u001b[0m\u001b[0m\n\u001b[1;32m   1758\u001b[0m                 \u001b[0mmask\u001b[0m \u001b[0;34m=\u001b[0m \u001b[0mvalues\u001b[0m \u001b[0;34m==\u001b[0m \u001b[0;34m-\u001b[0m\u001b[0;36m1\u001b[0m\u001b[0;34m\u001b[0m\u001b[0m\n",
      "\u001b[0;31mValueError\u001b[0m: fill value must be in categories"
     ]
    }
   ],
   "source": [
    "san_fran_wind = san_fran_wind.assign(\n",
    "    wind_direction = (\n",
    "        san_fran_wind\n",
    "        .wind_direction\n",
    "        .fillna(\"No Wind\")\n",
    "    )\n",
    ")"
   ]
  },
  {
   "cell_type": "markdown",
   "metadata": {},
   "source": [
    "This operation turns out to be not possible because the column we created using pd.cut() is a category and not a normal Series.  \n",
    "To get around this problem we might do this."
   ]
  },
  {
   "cell_type": "code",
   "execution_count": 27,
   "metadata": {},
   "outputs": [],
   "source": [
    "san_fran_wind = san_fran_wind.assign(\n",
    "    wind_direction = (\n",
    "        san_fran_wind\n",
    "        .wind_direction\n",
    "        .cat\n",
    "        .add_categories(\"No Wind\")\n",
    "        .fillna(\"No Wind\")\n",
    "    )\n",
    ")"
   ]
  },
  {
   "cell_type": "markdown",
   "metadata": {},
   "source": [
    "We now perform the one hot encoding\n",
    "___"
   ]
  },
  {
   "cell_type": "code",
   "execution_count": 28,
   "metadata": {},
   "outputs": [],
   "source": [
    "san_fran_wind_encoded = pd.get_dummies(san_fran_wind, prefix=\"\", prefix_sep=\"\")"
   ]
  },
  {
   "cell_type": "markdown",
   "metadata": {},
   "source": [
    "___"
   ]
  },
  {
   "cell_type": "code",
   "execution_count": 29,
   "metadata": {},
   "outputs": [
    {
     "data": {
      "text/html": [
       "<div>\n",
       "<style scoped>\n",
       "    .dataframe tbody tr th:only-of-type {\n",
       "        vertical-align: middle;\n",
       "    }\n",
       "\n",
       "    .dataframe tbody tr th {\n",
       "        vertical-align: top;\n",
       "    }\n",
       "\n",
       "    .dataframe thead th {\n",
       "        text-align: right;\n",
       "    }\n",
       "</style>\n",
       "<table border=\"1\" class=\"dataframe\">\n",
       "  <thead>\n",
       "    <tr style=\"text-align: right;\">\n",
       "      <th></th>\n",
       "      <th>San Francisco</th>\n",
       "      <th>NNE</th>\n",
       "      <th>NE</th>\n",
       "      <th>ENE</th>\n",
       "      <th>ESE</th>\n",
       "      <th>SE</th>\n",
       "      <th>SSE</th>\n",
       "      <th>SSW</th>\n",
       "      <th>SW</th>\n",
       "      <th>WSW</th>\n",
       "      <th>WNW</th>\n",
       "      <th>NW</th>\n",
       "      <th>NNW</th>\n",
       "      <th>No Wind</th>\n",
       "    </tr>\n",
       "    <tr>\n",
       "      <th>datetime</th>\n",
       "      <th></th>\n",
       "      <th></th>\n",
       "      <th></th>\n",
       "      <th></th>\n",
       "      <th></th>\n",
       "      <th></th>\n",
       "      <th></th>\n",
       "      <th></th>\n",
       "      <th></th>\n",
       "      <th></th>\n",
       "      <th></th>\n",
       "      <th></th>\n",
       "      <th></th>\n",
       "      <th></th>\n",
       "    </tr>\n",
       "  </thead>\n",
       "  <tbody>\n",
       "    <tr>\n",
       "      <th>2012-10-01 12:00:00</th>\n",
       "      <td>NaN</td>\n",
       "      <td>0</td>\n",
       "      <td>0</td>\n",
       "      <td>0</td>\n",
       "      <td>0</td>\n",
       "      <td>0</td>\n",
       "      <td>0</td>\n",
       "      <td>0</td>\n",
       "      <td>0</td>\n",
       "      <td>0</td>\n",
       "      <td>0</td>\n",
       "      <td>0</td>\n",
       "      <td>0</td>\n",
       "      <td>1</td>\n",
       "    </tr>\n",
       "    <tr>\n",
       "      <th>2012-10-01 13:00:00</th>\n",
       "      <td>150.0</td>\n",
       "      <td>0</td>\n",
       "      <td>0</td>\n",
       "      <td>0</td>\n",
       "      <td>0</td>\n",
       "      <td>1</td>\n",
       "      <td>0</td>\n",
       "      <td>0</td>\n",
       "      <td>0</td>\n",
       "      <td>0</td>\n",
       "      <td>0</td>\n",
       "      <td>0</td>\n",
       "      <td>0</td>\n",
       "      <td>0</td>\n",
       "    </tr>\n",
       "    <tr>\n",
       "      <th>2012-10-01 14:00:00</th>\n",
       "      <td>147.0</td>\n",
       "      <td>0</td>\n",
       "      <td>0</td>\n",
       "      <td>0</td>\n",
       "      <td>0</td>\n",
       "      <td>1</td>\n",
       "      <td>0</td>\n",
       "      <td>0</td>\n",
       "      <td>0</td>\n",
       "      <td>0</td>\n",
       "      <td>0</td>\n",
       "      <td>0</td>\n",
       "      <td>0</td>\n",
       "      <td>0</td>\n",
       "    </tr>\n",
       "    <tr>\n",
       "      <th>2012-10-01 15:00:00</th>\n",
       "      <td>141.0</td>\n",
       "      <td>0</td>\n",
       "      <td>0</td>\n",
       "      <td>0</td>\n",
       "      <td>0</td>\n",
       "      <td>1</td>\n",
       "      <td>0</td>\n",
       "      <td>0</td>\n",
       "      <td>0</td>\n",
       "      <td>0</td>\n",
       "      <td>0</td>\n",
       "      <td>0</td>\n",
       "      <td>0</td>\n",
       "      <td>0</td>\n",
       "    </tr>\n",
       "    <tr>\n",
       "      <th>2012-10-01 16:00:00</th>\n",
       "      <td>135.0</td>\n",
       "      <td>0</td>\n",
       "      <td>0</td>\n",
       "      <td>0</td>\n",
       "      <td>0</td>\n",
       "      <td>1</td>\n",
       "      <td>0</td>\n",
       "      <td>0</td>\n",
       "      <td>0</td>\n",
       "      <td>0</td>\n",
       "      <td>0</td>\n",
       "      <td>0</td>\n",
       "      <td>0</td>\n",
       "      <td>0</td>\n",
       "    </tr>\n",
       "  </tbody>\n",
       "</table>\n",
       "</div>"
      ],
      "text/plain": [
       "                     San Francisco  NNE  NE  ENE  ESE  SE  SSE  SSW  SW  WSW  \\\n",
       "datetime                                                                       \n",
       "2012-10-01 12:00:00            NaN    0   0    0    0   0    0    0   0    0   \n",
       "2012-10-01 13:00:00          150.0    0   0    0    0   1    0    0   0    0   \n",
       "2012-10-01 14:00:00          147.0    0   0    0    0   1    0    0   0    0   \n",
       "2012-10-01 15:00:00          141.0    0   0    0    0   1    0    0   0    0   \n",
       "2012-10-01 16:00:00          135.0    0   0    0    0   1    0    0   0    0   \n",
       "\n",
       "                     WNW  NW  NNW  No Wind  \n",
       "datetime                                    \n",
       "2012-10-01 12:00:00    0   0    0        1  \n",
       "2012-10-01 13:00:00    0   0    0        0  \n",
       "2012-10-01 14:00:00    0   0    0        0  \n",
       "2012-10-01 15:00:00    0   0    0        0  \n",
       "2012-10-01 16:00:00    0   0    0        0  "
      ]
     },
     "execution_count": 29,
     "metadata": {},
     "output_type": "execute_result"
    }
   ],
   "source": [
    "san_fran_wind_encoded.head()"
   ]
  },
  {
   "cell_type": "markdown",
   "metadata": {},
   "source": [
    "# Tip 7. Getting a numpy array from a series or dataframe: values"
   ]
  },
  {
   "cell_type": "markdown",
   "metadata": {},
   "source": [
    "**Motivation:**  \n",
    "Sometimes we might want to provide as an input to a model a numpy array rather than a dataframe.  \n",
    "Perhaps we want to implement our own (_modified_) version of an algorithm from scratch using numpy and linear algebra."
   ]
  },
  {
   "cell_type": "code",
   "execution_count": 30,
   "metadata": {},
   "outputs": [],
   "source": [
    "light_san_fran_wind_encoded = san_fran_wind_encoded.drop(\"San Francisco\", axis=1)"
   ]
  },
  {
   "cell_type": "markdown",
   "metadata": {},
   "source": [
    "___"
   ]
  },
  {
   "cell_type": "code",
   "execution_count": 31,
   "metadata": {},
   "outputs": [
    {
     "data": {
      "text/plain": [
       "array([[0, 0, 0, ..., 0, 0, 1],\n",
       "       [0, 0, 0, ..., 0, 0, 0],\n",
       "       [0, 0, 0, ..., 0, 0, 0],\n",
       "       ...,\n",
       "       [0, 0, 0, ..., 0, 0, 1],\n",
       "       [0, 0, 0, ..., 0, 0, 1],\n",
       "       [0, 0, 0, ..., 0, 0, 1]], dtype=uint8)"
      ]
     },
     "execution_count": 31,
     "metadata": {},
     "output_type": "execute_result"
    }
   ],
   "source": [
    "light_san_fran_wind_encoded.values"
   ]
  },
  {
   "cell_type": "code",
   "execution_count": 32,
   "metadata": {},
   "outputs": [
    {
     "data": {
      "text/plain": [
       "array([0, 0, 0, 0, 0, 0, 0, 0, 0, 0, 0, 0, 1], dtype=uint8)"
      ]
     },
     "execution_count": 32,
     "metadata": {},
     "output_type": "execute_result"
    }
   ],
   "source": [
    "light_san_fran_wind_encoded.values[0]"
   ]
  },
  {
   "cell_type": "markdown",
   "metadata": {},
   "source": [
    "___"
   ]
  },
  {
   "cell_type": "markdown",
   "metadata": {},
   "source": [
    "# Inspecting wind direction data"
   ]
  },
  {
   "cell_type": "code",
   "execution_count": 33,
   "metadata": {},
   "outputs": [
    {
     "data": {
      "text/html": [
       "<div>\n",
       "<style scoped>\n",
       "    .dataframe tbody tr th:only-of-type {\n",
       "        vertical-align: middle;\n",
       "    }\n",
       "\n",
       "    .dataframe tbody tr th {\n",
       "        vertical-align: top;\n",
       "    }\n",
       "\n",
       "    .dataframe thead th {\n",
       "        text-align: right;\n",
       "    }\n",
       "</style>\n",
       "<table border=\"1\" class=\"dataframe\">\n",
       "  <thead>\n",
       "    <tr style=\"text-align: right;\">\n",
       "      <th></th>\n",
       "      <th>datetime</th>\n",
       "      <th>Vancouver</th>\n",
       "      <th>Portland</th>\n",
       "      <th>San Francisco</th>\n",
       "      <th>Seattle</th>\n",
       "      <th>Los Angeles</th>\n",
       "      <th>San Diego</th>\n",
       "      <th>Las Vegas</th>\n",
       "      <th>Phoenix</th>\n",
       "      <th>Albuquerque</th>\n",
       "      <th>...</th>\n",
       "      <th>Philadelphia</th>\n",
       "      <th>New York</th>\n",
       "      <th>Montreal</th>\n",
       "      <th>Boston</th>\n",
       "      <th>Beersheba</th>\n",
       "      <th>Tel Aviv District</th>\n",
       "      <th>Eilat</th>\n",
       "      <th>Haifa</th>\n",
       "      <th>Nahariyya</th>\n",
       "      <th>Jerusalem</th>\n",
       "    </tr>\n",
       "  </thead>\n",
       "  <tbody>\n",
       "    <tr>\n",
       "      <th>0</th>\n",
       "      <td>2012-10-01 12:00:00</td>\n",
       "      <td>NaN</td>\n",
       "      <td>NaN</td>\n",
       "      <td>NaN</td>\n",
       "      <td>NaN</td>\n",
       "      <td>NaN</td>\n",
       "      <td>NaN</td>\n",
       "      <td>NaN</td>\n",
       "      <td>NaN</td>\n",
       "      <td>NaN</td>\n",
       "      <td>...</td>\n",
       "      <td>NaN</td>\n",
       "      <td>NaN</td>\n",
       "      <td>NaN</td>\n",
       "      <td>NaN</td>\n",
       "      <td>NaN</td>\n",
       "      <td>NaN</td>\n",
       "      <td>309.100000</td>\n",
       "      <td>NaN</td>\n",
       "      <td>NaN</td>\n",
       "      <td>NaN</td>\n",
       "    </tr>\n",
       "    <tr>\n",
       "      <th>1</th>\n",
       "      <td>2012-10-01 13:00:00</td>\n",
       "      <td>284.630000</td>\n",
       "      <td>282.080000</td>\n",
       "      <td>289.480000</td>\n",
       "      <td>281.800000</td>\n",
       "      <td>291.870000</td>\n",
       "      <td>291.530000</td>\n",
       "      <td>293.410000</td>\n",
       "      <td>296.600000</td>\n",
       "      <td>285.120000</td>\n",
       "      <td>...</td>\n",
       "      <td>285.630000</td>\n",
       "      <td>288.220000</td>\n",
       "      <td>285.830000</td>\n",
       "      <td>287.170000</td>\n",
       "      <td>307.590000</td>\n",
       "      <td>305.470000</td>\n",
       "      <td>310.580000</td>\n",
       "      <td>304.4</td>\n",
       "      <td>304.4</td>\n",
       "      <td>303.5</td>\n",
       "    </tr>\n",
       "    <tr>\n",
       "      <th>2</th>\n",
       "      <td>2012-10-01 14:00:00</td>\n",
       "      <td>284.629041</td>\n",
       "      <td>282.083252</td>\n",
       "      <td>289.474993</td>\n",
       "      <td>281.797217</td>\n",
       "      <td>291.868186</td>\n",
       "      <td>291.533501</td>\n",
       "      <td>293.403141</td>\n",
       "      <td>296.608509</td>\n",
       "      <td>285.154558</td>\n",
       "      <td>...</td>\n",
       "      <td>285.663208</td>\n",
       "      <td>288.247676</td>\n",
       "      <td>285.834650</td>\n",
       "      <td>287.186092</td>\n",
       "      <td>307.590000</td>\n",
       "      <td>304.310000</td>\n",
       "      <td>310.495769</td>\n",
       "      <td>304.4</td>\n",
       "      <td>304.4</td>\n",
       "      <td>303.5</td>\n",
       "    </tr>\n",
       "    <tr>\n",
       "      <th>3</th>\n",
       "      <td>2012-10-01 15:00:00</td>\n",
       "      <td>284.626998</td>\n",
       "      <td>282.091866</td>\n",
       "      <td>289.460618</td>\n",
       "      <td>281.789833</td>\n",
       "      <td>291.862844</td>\n",
       "      <td>291.543355</td>\n",
       "      <td>293.392177</td>\n",
       "      <td>296.631487</td>\n",
       "      <td>285.233952</td>\n",
       "      <td>...</td>\n",
       "      <td>285.756824</td>\n",
       "      <td>288.326940</td>\n",
       "      <td>285.847790</td>\n",
       "      <td>287.231672</td>\n",
       "      <td>307.391513</td>\n",
       "      <td>304.281841</td>\n",
       "      <td>310.411538</td>\n",
       "      <td>304.4</td>\n",
       "      <td>304.4</td>\n",
       "      <td>303.5</td>\n",
       "    </tr>\n",
       "    <tr>\n",
       "      <th>4</th>\n",
       "      <td>2012-10-01 16:00:00</td>\n",
       "      <td>284.624955</td>\n",
       "      <td>282.100481</td>\n",
       "      <td>289.446243</td>\n",
       "      <td>281.782449</td>\n",
       "      <td>291.857503</td>\n",
       "      <td>291.553209</td>\n",
       "      <td>293.381213</td>\n",
       "      <td>296.654466</td>\n",
       "      <td>285.313345</td>\n",
       "      <td>...</td>\n",
       "      <td>285.850440</td>\n",
       "      <td>288.406203</td>\n",
       "      <td>285.860929</td>\n",
       "      <td>287.277251</td>\n",
       "      <td>307.145200</td>\n",
       "      <td>304.238015</td>\n",
       "      <td>310.327308</td>\n",
       "      <td>304.4</td>\n",
       "      <td>304.4</td>\n",
       "      <td>303.5</td>\n",
       "    </tr>\n",
       "  </tbody>\n",
       "</table>\n",
       "<p>5 rows × 37 columns</p>\n",
       "</div>"
      ],
      "text/plain": [
       "              datetime   Vancouver    Portland  San Francisco     Seattle  \\\n",
       "0  2012-10-01 12:00:00         NaN         NaN            NaN         NaN   \n",
       "1  2012-10-01 13:00:00  284.630000  282.080000     289.480000  281.800000   \n",
       "2  2012-10-01 14:00:00  284.629041  282.083252     289.474993  281.797217   \n",
       "3  2012-10-01 15:00:00  284.626998  282.091866     289.460618  281.789833   \n",
       "4  2012-10-01 16:00:00  284.624955  282.100481     289.446243  281.782449   \n",
       "\n",
       "   Los Angeles   San Diego   Las Vegas     Phoenix  Albuquerque    ...      \\\n",
       "0          NaN         NaN         NaN         NaN          NaN    ...       \n",
       "1   291.870000  291.530000  293.410000  296.600000   285.120000    ...       \n",
       "2   291.868186  291.533501  293.403141  296.608509   285.154558    ...       \n",
       "3   291.862844  291.543355  293.392177  296.631487   285.233952    ...       \n",
       "4   291.857503  291.553209  293.381213  296.654466   285.313345    ...       \n",
       "\n",
       "   Philadelphia    New York    Montreal      Boston   Beersheba  \\\n",
       "0           NaN         NaN         NaN         NaN         NaN   \n",
       "1    285.630000  288.220000  285.830000  287.170000  307.590000   \n",
       "2    285.663208  288.247676  285.834650  287.186092  307.590000   \n",
       "3    285.756824  288.326940  285.847790  287.231672  307.391513   \n",
       "4    285.850440  288.406203  285.860929  287.277251  307.145200   \n",
       "\n",
       "   Tel Aviv District       Eilat  Haifa  Nahariyya  Jerusalem  \n",
       "0                NaN  309.100000    NaN        NaN        NaN  \n",
       "1         305.470000  310.580000  304.4      304.4      303.5  \n",
       "2         304.310000  310.495769  304.4      304.4      303.5  \n",
       "3         304.281841  310.411538  304.4      304.4      303.5  \n",
       "4         304.238015  310.327308  304.4      304.4      303.5  \n",
       "\n",
       "[5 rows x 37 columns]"
      ]
     },
     "execution_count": 33,
     "metadata": {},
     "output_type": "execute_result"
    }
   ],
   "source": [
    "temp = dfs[\"temperature.csv\"]\n",
    "temp.head()"
   ]
  },
  {
   "cell_type": "markdown",
   "metadata": {},
   "source": [
    "# Tip 8. Apply a function to the whole dataframe: applymap()"
   ]
  },
  {
   "cell_type": "markdown",
   "metadata": {},
   "source": [
    "**Motivation:**  \n",
    "Sometimes we have data that have the same unit of measurement in each column and we want to convert it into some other unit of measurement."
   ]
  },
  {
   "cell_type": "markdown",
   "metadata": {},
   "source": [
    "___"
   ]
  },
  {
   "cell_type": "code",
   "execution_count": 34,
   "metadata": {},
   "outputs": [],
   "source": [
    "temp = (\n",
    "    temp\n",
    "    .assign(datetime = pd.to_datetime(temp[\"datetime\"]))\n",
    "    .set_index(\"datetime\")\n",
    "    .applymap(lambda x : (x-273.15))\n",
    ")"
   ]
  },
  {
   "cell_type": "markdown",
   "metadata": {},
   "source": [
    "___"
   ]
  },
  {
   "cell_type": "code",
   "execution_count": 35,
   "metadata": {},
   "outputs": [
    {
     "data": {
      "text/html": [
       "<div>\n",
       "<style scoped>\n",
       "    .dataframe tbody tr th:only-of-type {\n",
       "        vertical-align: middle;\n",
       "    }\n",
       "\n",
       "    .dataframe tbody tr th {\n",
       "        vertical-align: top;\n",
       "    }\n",
       "\n",
       "    .dataframe thead th {\n",
       "        text-align: right;\n",
       "    }\n",
       "</style>\n",
       "<table border=\"1\" class=\"dataframe\">\n",
       "  <thead>\n",
       "    <tr style=\"text-align: right;\">\n",
       "      <th></th>\n",
       "      <th>Vancouver</th>\n",
       "      <th>Portland</th>\n",
       "      <th>San Francisco</th>\n",
       "      <th>Seattle</th>\n",
       "      <th>Los Angeles</th>\n",
       "      <th>San Diego</th>\n",
       "      <th>Las Vegas</th>\n",
       "      <th>Phoenix</th>\n",
       "      <th>Albuquerque</th>\n",
       "      <th>Denver</th>\n",
       "      <th>...</th>\n",
       "      <th>Philadelphia</th>\n",
       "      <th>New York</th>\n",
       "      <th>Montreal</th>\n",
       "      <th>Boston</th>\n",
       "      <th>Beersheba</th>\n",
       "      <th>Tel Aviv District</th>\n",
       "      <th>Eilat</th>\n",
       "      <th>Haifa</th>\n",
       "      <th>Nahariyya</th>\n",
       "      <th>Jerusalem</th>\n",
       "    </tr>\n",
       "    <tr>\n",
       "      <th>datetime</th>\n",
       "      <th></th>\n",
       "      <th></th>\n",
       "      <th></th>\n",
       "      <th></th>\n",
       "      <th></th>\n",
       "      <th></th>\n",
       "      <th></th>\n",
       "      <th></th>\n",
       "      <th></th>\n",
       "      <th></th>\n",
       "      <th></th>\n",
       "      <th></th>\n",
       "      <th></th>\n",
       "      <th></th>\n",
       "      <th></th>\n",
       "      <th></th>\n",
       "      <th></th>\n",
       "      <th></th>\n",
       "      <th></th>\n",
       "      <th></th>\n",
       "      <th></th>\n",
       "    </tr>\n",
       "  </thead>\n",
       "  <tbody>\n",
       "    <tr>\n",
       "      <th>2012-10-01 12:00:00</th>\n",
       "      <td>NaN</td>\n",
       "      <td>NaN</td>\n",
       "      <td>NaN</td>\n",
       "      <td>NaN</td>\n",
       "      <td>NaN</td>\n",
       "      <td>NaN</td>\n",
       "      <td>NaN</td>\n",
       "      <td>NaN</td>\n",
       "      <td>NaN</td>\n",
       "      <td>NaN</td>\n",
       "      <td>...</td>\n",
       "      <td>NaN</td>\n",
       "      <td>NaN</td>\n",
       "      <td>NaN</td>\n",
       "      <td>NaN</td>\n",
       "      <td>NaN</td>\n",
       "      <td>NaN</td>\n",
       "      <td>35.950000</td>\n",
       "      <td>NaN</td>\n",
       "      <td>NaN</td>\n",
       "      <td>NaN</td>\n",
       "    </tr>\n",
       "    <tr>\n",
       "      <th>2012-10-01 13:00:00</th>\n",
       "      <td>11.480000</td>\n",
       "      <td>8.930000</td>\n",
       "      <td>16.330000</td>\n",
       "      <td>8.650000</td>\n",
       "      <td>18.720000</td>\n",
       "      <td>18.380000</td>\n",
       "      <td>20.260000</td>\n",
       "      <td>23.450000</td>\n",
       "      <td>11.970000</td>\n",
       "      <td>11.460000</td>\n",
       "      <td>...</td>\n",
       "      <td>12.480000</td>\n",
       "      <td>15.070000</td>\n",
       "      <td>12.680000</td>\n",
       "      <td>14.020000</td>\n",
       "      <td>34.440000</td>\n",
       "      <td>32.320000</td>\n",
       "      <td>37.430000</td>\n",
       "      <td>31.25</td>\n",
       "      <td>31.25</td>\n",
       "      <td>30.35</td>\n",
       "    </tr>\n",
       "    <tr>\n",
       "      <th>2012-10-01 14:00:00</th>\n",
       "      <td>11.479041</td>\n",
       "      <td>8.933252</td>\n",
       "      <td>16.324993</td>\n",
       "      <td>8.647217</td>\n",
       "      <td>18.718186</td>\n",
       "      <td>18.383501</td>\n",
       "      <td>20.253141</td>\n",
       "      <td>23.458509</td>\n",
       "      <td>12.004558</td>\n",
       "      <td>11.457306</td>\n",
       "      <td>...</td>\n",
       "      <td>12.513208</td>\n",
       "      <td>15.097676</td>\n",
       "      <td>12.684650</td>\n",
       "      <td>14.036092</td>\n",
       "      <td>34.440000</td>\n",
       "      <td>31.160000</td>\n",
       "      <td>37.345769</td>\n",
       "      <td>31.25</td>\n",
       "      <td>31.25</td>\n",
       "      <td>30.35</td>\n",
       "    </tr>\n",
       "    <tr>\n",
       "      <th>2012-10-01 15:00:00</th>\n",
       "      <td>11.476998</td>\n",
       "      <td>8.941866</td>\n",
       "      <td>16.310618</td>\n",
       "      <td>8.639833</td>\n",
       "      <td>18.712844</td>\n",
       "      <td>18.393355</td>\n",
       "      <td>20.242177</td>\n",
       "      <td>23.481487</td>\n",
       "      <td>12.083952</td>\n",
       "      <td>11.449918</td>\n",
       "      <td>...</td>\n",
       "      <td>12.606824</td>\n",
       "      <td>15.176940</td>\n",
       "      <td>12.697790</td>\n",
       "      <td>14.081672</td>\n",
       "      <td>34.241513</td>\n",
       "      <td>31.131841</td>\n",
       "      <td>37.261538</td>\n",
       "      <td>31.25</td>\n",
       "      <td>31.25</td>\n",
       "      <td>30.35</td>\n",
       "    </tr>\n",
       "    <tr>\n",
       "      <th>2012-10-01 16:00:00</th>\n",
       "      <td>11.474955</td>\n",
       "      <td>8.950481</td>\n",
       "      <td>16.296243</td>\n",
       "      <td>8.632449</td>\n",
       "      <td>18.707503</td>\n",
       "      <td>18.403209</td>\n",
       "      <td>20.231213</td>\n",
       "      <td>23.504466</td>\n",
       "      <td>12.163345</td>\n",
       "      <td>11.442530</td>\n",
       "      <td>...</td>\n",
       "      <td>12.700440</td>\n",
       "      <td>15.256203</td>\n",
       "      <td>12.710929</td>\n",
       "      <td>14.127251</td>\n",
       "      <td>33.995200</td>\n",
       "      <td>31.088015</td>\n",
       "      <td>37.177308</td>\n",
       "      <td>31.25</td>\n",
       "      <td>31.25</td>\n",
       "      <td>30.35</td>\n",
       "    </tr>\n",
       "  </tbody>\n",
       "</table>\n",
       "<p>5 rows × 36 columns</p>\n",
       "</div>"
      ],
      "text/plain": [
       "                     Vancouver  Portland  San Francisco   Seattle  \\\n",
       "datetime                                                            \n",
       "2012-10-01 12:00:00        NaN       NaN            NaN       NaN   \n",
       "2012-10-01 13:00:00  11.480000  8.930000      16.330000  8.650000   \n",
       "2012-10-01 14:00:00  11.479041  8.933252      16.324993  8.647217   \n",
       "2012-10-01 15:00:00  11.476998  8.941866      16.310618  8.639833   \n",
       "2012-10-01 16:00:00  11.474955  8.950481      16.296243  8.632449   \n",
       "\n",
       "                     Los Angeles  San Diego  Las Vegas    Phoenix  \\\n",
       "datetime                                                            \n",
       "2012-10-01 12:00:00          NaN        NaN        NaN        NaN   \n",
       "2012-10-01 13:00:00    18.720000  18.380000  20.260000  23.450000   \n",
       "2012-10-01 14:00:00    18.718186  18.383501  20.253141  23.458509   \n",
       "2012-10-01 15:00:00    18.712844  18.393355  20.242177  23.481487   \n",
       "2012-10-01 16:00:00    18.707503  18.403209  20.231213  23.504466   \n",
       "\n",
       "                     Albuquerque     Denver    ...      Philadelphia  \\\n",
       "datetime                                       ...                     \n",
       "2012-10-01 12:00:00          NaN        NaN    ...               NaN   \n",
       "2012-10-01 13:00:00    11.970000  11.460000    ...         12.480000   \n",
       "2012-10-01 14:00:00    12.004558  11.457306    ...         12.513208   \n",
       "2012-10-01 15:00:00    12.083952  11.449918    ...         12.606824   \n",
       "2012-10-01 16:00:00    12.163345  11.442530    ...         12.700440   \n",
       "\n",
       "                      New York   Montreal     Boston  Beersheba  \\\n",
       "datetime                                                          \n",
       "2012-10-01 12:00:00        NaN        NaN        NaN        NaN   \n",
       "2012-10-01 13:00:00  15.070000  12.680000  14.020000  34.440000   \n",
       "2012-10-01 14:00:00  15.097676  12.684650  14.036092  34.440000   \n",
       "2012-10-01 15:00:00  15.176940  12.697790  14.081672  34.241513   \n",
       "2012-10-01 16:00:00  15.256203  12.710929  14.127251  33.995200   \n",
       "\n",
       "                     Tel Aviv District      Eilat  Haifa  Nahariyya  Jerusalem  \n",
       "datetime                                                                        \n",
       "2012-10-01 12:00:00                NaN  35.950000    NaN        NaN        NaN  \n",
       "2012-10-01 13:00:00          32.320000  37.430000  31.25      31.25      30.35  \n",
       "2012-10-01 14:00:00          31.160000  37.345769  31.25      31.25      30.35  \n",
       "2012-10-01 15:00:00          31.131841  37.261538  31.25      31.25      30.35  \n",
       "2012-10-01 16:00:00          31.088015  37.177308  31.25      31.25      30.35  \n",
       "\n",
       "[5 rows x 36 columns]"
      ]
     },
     "execution_count": 35,
     "metadata": {},
     "output_type": "execute_result"
    }
   ],
   "source": [
    "temp.head(5)"
   ]
  },
  {
   "cell_type": "markdown",
   "metadata": {},
   "source": [
    "# Tip 9. Apply a function over a window of the data: rolling()"
   ]
  },
  {
   "cell_type": "markdown",
   "metadata": {},
   "source": [
    "**Motivation:**  \n",
    "There is a wealth of models that can be applied to signal or timeseries data.  \n",
    "Many of such models rely on the creation of _windows_ over the data (e.g. Moving Average)"
   ]
  },
  {
   "cell_type": "markdown",
   "metadata": {},
   "source": [
    "Since this timeseries seems a little noisy, I decided to apply a function to smooth it"
   ]
  },
  {
   "cell_type": "code",
   "execution_count": 36,
   "metadata": {},
   "outputs": [
    {
     "data": {
      "image/png": "[encoded data removed]",
      "text/plain": [
       "<Figure size 2160x288 with 1 Axes>"
      ]
     },
     "metadata": {
      "needs_background": "light"
     },
     "output_type": "display_data"
    }
   ],
   "source": [
    "temp.Phoenix.plot(figsize=(30,4));"
   ]
  },
  {
   "cell_type": "markdown",
   "metadata": {},
   "source": [
    "___"
   ]
  },
  {
   "cell_type": "code",
   "execution_count": 37,
   "metadata": {},
   "outputs": [
    {
     "data": {
      "image/png": "[encoded data removed]",
      "text/plain": [
       "<Figure size 2160x288 with 1 Axes>"
      ]
     },
     "metadata": {
      "needs_background": "light"
     },
     "output_type": "display_data"
    }
   ],
   "source": [
    "temp.Phoenix.rolling(window=28, center=True).mean().plot(figsize=(30,4));"
   ]
  },
  {
   "cell_type": "markdown",
   "metadata": {},
   "source": [
    "___"
   ]
  },
  {
   "cell_type": "markdown",
   "metadata": {},
   "source": [
    "When you define a window of size x, the point on which we are focusing is included in that size (window=0 returns no chart)"
   ]
  },
  {
   "cell_type": "markdown",
   "metadata": {},
   "source": [
    "# Tip 10. Normalize a variable: transform()"
   ]
  },
  {
   "cell_type": "markdown",
   "metadata": {},
   "source": [
    "**Motivation:**  \n",
    "An aggregate function takes in n inputs and returns 1 output.  \n",
    "At times we want to access this value for each of the n inputs we used to generate that one output.  \n",
    "A clear case for this is the normalisation of a variable, for which we need to access mean and standard deviation."
   ]
  },
  {
   "cell_type": "markdown",
   "metadata": {},
   "source": [
    "Let's manipulate the data to generate a variable with only the year on which we will perform our grouping."
   ]
  },
  {
   "cell_type": "code",
   "execution_count": 38,
   "metadata": {},
   "outputs": [
    {
     "data": {
      "text/html": [
       "<div>\n",
       "<style scoped>\n",
       "    .dataframe tbody tr th:only-of-type {\n",
       "        vertical-align: middle;\n",
       "    }\n",
       "\n",
       "    .dataframe tbody tr th {\n",
       "        vertical-align: top;\n",
       "    }\n",
       "\n",
       "    .dataframe thead th {\n",
       "        text-align: right;\n",
       "    }\n",
       "</style>\n",
       "<table border=\"1\" class=\"dataframe\">\n",
       "  <thead>\n",
       "    <tr style=\"text-align: right;\">\n",
       "      <th></th>\n",
       "      <th>datetime</th>\n",
       "      <th>Phoenix</th>\n",
       "      <th>year</th>\n",
       "    </tr>\n",
       "  </thead>\n",
       "  <tbody>\n",
       "    <tr>\n",
       "      <th>0</th>\n",
       "      <td>2012-10-01 12:00:00</td>\n",
       "      <td>NaN</td>\n",
       "      <td>2012</td>\n",
       "    </tr>\n",
       "    <tr>\n",
       "      <th>1</th>\n",
       "      <td>2012-10-01 13:00:00</td>\n",
       "      <td>23.450000</td>\n",
       "      <td>2012</td>\n",
       "    </tr>\n",
       "    <tr>\n",
       "      <th>2</th>\n",
       "      <td>2012-10-01 14:00:00</td>\n",
       "      <td>23.458509</td>\n",
       "      <td>2012</td>\n",
       "    </tr>\n",
       "    <tr>\n",
       "      <th>3</th>\n",
       "      <td>2012-10-01 15:00:00</td>\n",
       "      <td>23.481487</td>\n",
       "      <td>2012</td>\n",
       "    </tr>\n",
       "    <tr>\n",
       "      <th>4</th>\n",
       "      <td>2012-10-01 16:00:00</td>\n",
       "      <td>23.504466</td>\n",
       "      <td>2012</td>\n",
       "    </tr>\n",
       "  </tbody>\n",
       "</table>\n",
       "</div>"
      ],
      "text/plain": [
       "             datetime    Phoenix  year\n",
       "0 2012-10-01 12:00:00        NaN  2012\n",
       "1 2012-10-01 13:00:00  23.450000  2012\n",
       "2 2012-10-01 14:00:00  23.458509  2012\n",
       "3 2012-10-01 15:00:00  23.481487  2012\n",
       "4 2012-10-01 16:00:00  23.504466  2012"
      ]
     },
     "execution_count": 38,
     "metadata": {},
     "output_type": "execute_result"
    }
   ],
   "source": [
    "pho_temp = (\n",
    "    temp\n",
    "    .Phoenix\n",
    "    .reset_index()\n",
    "    .assign(\n",
    "        year = temp.Phoenix.reset_index().datetime.dt.year\n",
    "    )\n",
    ")\n",
    "pho_temp.head()"
   ]
  },
  {
   "cell_type": "markdown",
   "metadata": {},
   "source": [
    "___"
   ]
  },
  {
   "cell_type": "code",
   "execution_count": 39,
   "metadata": {},
   "outputs": [],
   "source": [
    "pho_temp = pho_temp.assign(\n",
    "    norm_temp = (\n",
    "        pho_temp\n",
    "        .groupby(\"year\")\n",
    "        .transform(lambda x: (x - x.mean()) / x.std())\n",
    "    )\n",
    ")"
   ]
  },
  {
   "cell_type": "markdown",
   "metadata": {},
   "source": [
    "___"
   ]
  },
  {
   "cell_type": "code",
   "execution_count": 40,
   "metadata": {},
   "outputs": [
    {
     "data": {
      "image/png": "[encoded data removed]",
      "text/plain": [
       "<Figure size 2160x288 with 1 Axes>"
      ]
     },
     "metadata": {
      "needs_background": "light"
     },
     "output_type": "display_data"
    }
   ],
   "source": [
    "pho_temp.set_index(\"datetime\").norm_temp.plot(figsize=(30,4));"
   ]
  }
 ],
 "metadata": {
  "kernelspec": {
   "display_name": "Python 3",
   "language": "python",
   "name": "python3"
  },
  "language_info": {
   "codemirror_mode": {
    "name": "ipython",
    "version": 3
   },
   "file_extension": ".py",
   "mimetype": "text/x-python",
   "name": "python",
   "nbconvert_exporter": "python",
   "pygments_lexer": "ipython3",
   "version": "3.7.0"
  },
  "latex_envs": {
   "LaTeX_envs_menu_present": true,
   "autoclose": false,
   "autocomplete": true,
   "bibliofile": "biblio.bib",
   "cite_by": "apalike",
   "current_citInitial": 1,
   "eqLabelWithNumbers": true,
   "eqNumInitial": 1,
   "hotkeys": {
    "equation": "Ctrl-E",
    "itemize": "Ctrl-I"
   },
   "labels_anchors": false,
   "latex_user_defs": false,
   "report_style_numbering": false,
   "user_envs_cfg": false
  }
 },
 "nbformat": 4,
 "nbformat_minor": 2
}
